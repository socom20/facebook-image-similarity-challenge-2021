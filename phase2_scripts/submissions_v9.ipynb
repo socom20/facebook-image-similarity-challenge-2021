{
 "cells": [
  {
   "cell_type": "code",
   "execution_count": 1,
   "id": "hungry-metadata",
   "metadata": {},
   "outputs": [
    {
     "name": "stdout",
     "output_type": "stream",
     "text": [
      " - Found: 861 screenshots.  SCREENSHOT_DIR=./FB_page_qry\n"
     ]
    }
   ],
   "source": [
    "import os, sys, gc\n",
    "import time\n",
    "import glob\n",
    "import pickle\n",
    "import copy\n",
    "import json\n",
    "import random\n",
    "from collections import OrderedDict, namedtuple\n",
    "import multiprocessing\n",
    "import threading\n",
    "import traceback\n",
    "import gc\n",
    "\n",
    "from typing import Tuple, List\n",
    "from collections import defaultdict\n",
    "\n",
    "import h5py\n",
    "from tqdm import tqdm, tqdm_notebook\n",
    "\n",
    "import numpy as np\n",
    "import pandas as pd\n",
    "import matplotlib.pyplot as plt\n",
    "\n",
    "import cv2\n",
    "from PIL import Image\n",
    "\n",
    "\n",
    "from IPython.display import display, clear_output\n",
    "\n",
    "import faiss\n",
    "\n",
    "from modules.eval_functions import *\n",
    "from modules.eval_metrics import evaluate\n",
    "from modules.AugsDS_v13 import *"
   ]
  },
  {
   "cell_type": "code",
   "execution_count": 2,
   "id": "d16891f5",
   "metadata": {},
   "outputs": [],
   "source": [
    "VERSION = 9\n",
    "\n",
    "RUN_VALIDATIONS = False"
   ]
  },
  {
   "cell_type": "code",
   "execution_count": 3,
   "id": "de5d9e2d",
   "metadata": {},
   "outputs": [],
   "source": [
    "public_ground_truth_path = './all_datasets/dataset/public_ground_truth.csv'"
   ]
  },
  {
   "cell_type": "code",
   "execution_count": 4,
   "id": "d3073b64",
   "metadata": {},
   "outputs": [],
   "source": [
    "public_gt = pd.read_csv( public_ground_truth_path )"
   ]
  },
  {
   "cell_type": "markdown",
   "id": "secret-sunglasses",
   "metadata": {},
   "source": [
    "# Description Track"
   ]
  },
  {
   "cell_type": "markdown",
   "id": "seeing-apollo",
   "metadata": {},
   "source": [
    "## Loading submissions"
   ]
  },
  {
   "cell_type": "code",
   "execution_count": 5,
   "id": "accessory-engineering",
   "metadata": {},
   "outputs": [],
   "source": [
    "all_embed_ref_d_v = []\n",
    "all_embed_qry_d_v = []\n",
    "all_submission_path_v = []\n",
    "all_mAP = []\n",
    "all_desc = []"
   ]
  },
  {
   "cell_type": "markdown",
   "id": "8eefc00a",
   "metadata": {},
   "source": [
    "### - Test 5"
   ]
  },
  {
   "cell_type": "code",
   "execution_count": 6,
   "id": "skilled-gravity",
   "metadata": {},
   "outputs": [],
   "source": [
    "if True:\n",
    "    submission_path = './checkpoints/sjy_test5/FacebookModel_Eepoch=51_TLtrn_loss_epoch=0.8669_TAtrn_acc_epoch=0.9914_VLval_loss_epoch=0.4390_VAval_acc_epoch=0.9930_512x512_REF.h5'\n",
    "    embed_qry_d, embed_ref_d = read_submission(submission_path)\n",
    "\n",
    "    all_embed_qry_d_v.append(embed_qry_d)\n",
    "    all_embed_ref_d_v.append(embed_ref_d)\n",
    "    all_submission_path_v.append(submission_path)\n",
    "\n",
    "    all_mAP.append(0.6362326916550998)\n",
    "    all_desc.append( [s for s in submission_path.split('/') if 'test' in s][0] + '/epoch=' + [s for s in submission_path.split('_') if 'epoch' in s][0].split('=')[1]  )\n",
    "\n",
    "    if RUN_VALIDATIONS:\n",
    "        eval_d = evaluate(\n",
    "            submission_path=submission_path,\n",
    "            gt_path=public_ground_truth_path,\n",
    "            is_matching=False,\n",
    "        )"
   ]
  },
  {
   "cell_type": "markdown",
   "id": "11977cde",
   "metadata": {},
   "source": [
    "```\n",
    "Running evaluation on: \"./checkpoints/sjy_test5/FacebookModel_Eepoch=51_TLtrn_loss_epoch=0.8669_TAtrn_acc_epoch=0.9914_VLval_loss_epoch=0.4390_VAval_acc_epoch=0.9930_512x512_REF.h5\"\n",
    "{\n",
    "  \"average_precision\": 0.6362326916550998,\n",
    "  \"recall_p90\": 0.5257463434181526\n",
    "}\n",
    "```"
   ]
  },
  {
   "cell_type": "markdown",
   "id": "6d3e2331",
   "metadata": {},
   "source": [
    "### - Test 19"
   ]
  },
  {
   "cell_type": "code",
   "execution_count": 7,
   "id": "significant-dakota",
   "metadata": {},
   "outputs": [],
   "source": [
    "if True:\n",
    "    submission_path = './checkpoints/smp_test19/FacebookModel_Eepoch=67_TLtrn_loss_epoch=0.9913_TAtrn_acc_epoch=0.0000_VLval_loss_epoch=0.4815_VAval_acc_epoch=0.9893_224x224_REF.h5'\n",
    "    embed_qry_d, embed_ref_d = read_submission(submission_path)\n",
    "\n",
    "    all_embed_qry_d_v.append(embed_qry_d)\n",
    "    all_embed_ref_d_v.append(embed_ref_d)\n",
    "    all_submission_path_v.append(submission_path)\n",
    "\n",
    "    all_mAP.append(0.6378110962890179)\n",
    "    all_desc.append( [s for s in submission_path.split('/') if 'test' in s][0] + '/epoch=' + [s for s in submission_path.split('_') if 'epoch' in s][0].split('=')[1]  )\n",
    "\n",
    "    if RUN_VALIDATIONS:\n",
    "        eval_d = evaluate(\n",
    "            submission_path=submission_path,\n",
    "            gt_path=public_ground_truth_path,\n",
    "            is_matching=False,\n",
    "        )"
   ]
  },
  {
   "cell_type": "markdown",
   "id": "73add967",
   "metadata": {},
   "source": [
    "```\n",
    " Running evaluation on: \"./checkpoints/smp_test19/FacebookModel_Eepoch=67_TLtrn_loss_epoch=0.9913_TAtrn_acc_epoch=0.0000_VLval_loss_epoch=0.4815_VAval_acc_epoch=0.9893_224x224_REF.h5\"\n",
    "{\n",
    "  \"average_precision\": 0.6378110962890179,\n",
    "  \"recall_p90\": 0.5223402123822881\n",
    "}\n",
    "```"
   ]
  },
  {
   "cell_type": "markdown",
   "id": "7853eb75",
   "metadata": {},
   "source": [
    "### - Test 22"
   ]
  },
  {
   "cell_type": "code",
   "execution_count": 8,
   "id": "de134086",
   "metadata": {},
   "outputs": [],
   "source": [
    "if False:\n",
    "    submission_path = './checkpoints/smp_test22/FacebookModel_Eepoch=15_TLtrn_loss_epoch=2.1522_TAtrn_acc_epoch=0.0000_VLval_loss_epoch=nan_VAval_acc_epoch=0.9752_160x160_REF.h5'\n",
    "    embed_qry_d, embed_ref_d = read_submission(submission_path)\n",
    "\n",
    "    all_embed_qry_d_v.append(embed_qry_d)\n",
    "    all_embed_ref_d_v.append(embed_ref_d)\n",
    "    all_submission_path_v.append(submission_path)\n",
    "\n",
    "    all_mAP.append(0.6306082181957473)\n",
    "    all_desc.append( [s for s in submission_path.split('/') if 'test' in s][0] + '/epoch=' + [s for s in submission_path.split('_') if 'epoch' in s][0].split('=')[1]  )\n",
    "\n",
    "    if RUN_VALIDATIONS:\n",
    "        eval_d = evaluate(\n",
    "            submission_path=submission_path,\n",
    "            gt_path=public_ground_truth_path,\n",
    "            is_matching=False,\n",
    "        )"
   ]
  },
  {
   "cell_type": "markdown",
   "id": "a21097c6",
   "metadata": {},
   "source": [
    "```\n",
    " Running evaluation on: \"./checkpoints/smp_test22/FacebookModel_Eepoch=15_TLtrn_loss_epoch=2.1522_TAtrn_acc_epoch=0.0000_VLval_loss_epoch=nan_VAval_acc_epoch=0.9752_160x160_REF.h5\"\n",
    "{\n",
    "  \"average_precision\": 0.6306082181957473,\n",
    "  \"recall_p90\": 0.5283510318573432\n",
    "}\n",
    "```"
   ]
  },
  {
   "cell_type": "markdown",
   "id": "f5372b0b",
   "metadata": {},
   "source": [
    "### - Test 24"
   ]
  },
  {
   "cell_type": "code",
   "execution_count": 9,
   "id": "47f11490",
   "metadata": {},
   "outputs": [],
   "source": [
    "if True:\n",
    "    submission_path = './checkpoints/smp_test24/FacebookModel_epoch=79_trn_loss_epoch=0.6660_trn_acc_epoch=0.0000_val_loss_epoch=0.3122_val_acc_epoch=0.9937_160x160_REF.h5'\n",
    "    embed_qry_d, embed_ref_d = read_submission(submission_path)\n",
    "\n",
    "    all_embed_qry_d_v.append(embed_qry_d)\n",
    "    all_embed_ref_d_v.append(embed_ref_d)\n",
    "    all_submission_path_v.append(submission_path)\n",
    "\n",
    "    all_mAP.append(0.6523854918089071)\n",
    "    all_desc.append( [s for s in submission_path.split('/') if 'test' in s][0] + '/epoch=' + [s for s in submission_path.split('_') if 'epoch' in s][0].split('=')[1]  )\n",
    "\n",
    "    if RUN_VALIDATIONS:\n",
    "        eval_d = evaluate(\n",
    "            submission_path=submission_path,\n",
    "            gt_path=public_ground_truth_path,\n",
    "            is_matching=False,\n",
    "        )"
   ]
  },
  {
   "cell_type": "markdown",
   "id": "df0616b2",
   "metadata": {},
   "source": [
    "```\n",
    " Running evaluation on: \"./checkpoints/smp_test24/FacebookModel_epoch=79_trn_loss_epoch=0.6660_trn_acc_epoch=0.0000_val_loss_epoch=0.3122_val_acc_epoch=0.9937_160x160_REF.h5\"\n",
    "{\n",
    "  \"average_precision\": 0.6523854918089071,\n",
    "  \"recall_p90\": 0.5371669004207573\n",
    "}\n",
    "```"
   ]
  },
  {
   "cell_type": "markdown",
   "id": "a0940166",
   "metadata": {},
   "source": [
    "### - Test 25"
   ]
  },
  {
   "cell_type": "code",
   "execution_count": 10,
   "id": "0810f7a2",
   "metadata": {},
   "outputs": [],
   "source": [
    "if True:\n",
    "    submission_path = './checkpoints/smp_test25/FacebookModel_epoch=16_trn_loss_epoch=0.9023_trn_acc_epoch=0.0000_val_loss_epoch=0.4303_val_acc_epoch=0.9911_160x160_REF.h5'\n",
    "    embed_qry_d, embed_ref_d = read_submission(submission_path)\n",
    "\n",
    "    all_embed_qry_d_v.append(embed_qry_d)\n",
    "    all_embed_ref_d_v.append(embed_ref_d)\n",
    "    all_submission_path_v.append(submission_path)\n",
    "\n",
    "    all_mAP.append(0.6642482796817628)\n",
    "    all_desc.append( [s for s in submission_path.split('/') if 'test' in s][0] + '/epoch=' + [s for s in submission_path.split('_') if 'epoch' in s][0].split('=')[1]  )\n",
    "\n",
    "    if RUN_VALIDATIONS:\n",
    "        eval_d = evaluate(\n",
    "            submission_path=submission_path,\n",
    "            gt_path=public_ground_truth_path,\n",
    "            is_matching=False,\n",
    "        )"
   ]
  },
  {
   "cell_type": "markdown",
   "id": "37874e8b",
   "metadata": {},
   "source": [
    "```\n",
    " Running evaluation on: \"./checkpoints/smp_test25/FacebookModel_epoch=16_trn_loss_epoch=0.9023_trn_acc_epoch=0.0000_val_loss_epoch=0.4303_val_acc_epoch=0.9911_160x160_REF.h5\"\n",
    "{\n",
    "  \"average_precision\": 0.6642482796817628,\n",
    "  \"recall_p90\": 0.5547986375475856\n",
    "}\n",
    "\n",
    "```"
   ]
  },
  {
   "cell_type": "code",
   "execution_count": 11,
   "id": "d43a5923",
   "metadata": {
    "scrolled": true
   },
   "outputs": [],
   "source": [
    "if True:\n",
    "    submission_path = './checkpoints/smp_test25/FacebookModel_epoch=14_trn_loss_epoch=0.8997_trn_acc_epoch=0.0000_val_loss_epoch=0.4437_val_acc_epoch=0.9912_160x160_REF.h5'\n",
    "    embed_qry_d, embed_ref_d = read_submission(submission_path)\n",
    "\n",
    "    all_embed_qry_d_v.append(embed_qry_d)\n",
    "    all_embed_ref_d_v.append(embed_ref_d)\n",
    "    all_submission_path_v.append(submission_path)\n",
    "\n",
    "    all_mAP.append(0.6640664715134845)\n",
    "    all_desc.append( [s for s in submission_path.split('/') if 'test' in s][0] + '/epoch=' + [s for s in submission_path.split('_') if 'epoch' in s][0].split('=')[1]  )\n",
    "\n",
    "    if RUN_VALIDATIONS:\n",
    "        eval_d = evaluate(\n",
    "            submission_path=submission_path,\n",
    "            gt_path=public_ground_truth_path,\n",
    "            is_matching=False,\n",
    "        )"
   ]
  },
  {
   "cell_type": "markdown",
   "id": "b5d58ea5",
   "metadata": {},
   "source": [
    "```\n",
    " Running evaluation on: \"./checkpoints/smp_test25/FacebookModel_epoch=14_trn_loss_epoch=0.8997_trn_acc_epoch=0.0000_val_loss_epoch=0.4437_val_acc_epoch=0.9912_160x160_REF.h5\"\n",
    "{\n",
    "  \"average_precision\": 0.6640664715134845,\n",
    "  \"recall_p90\": 0.545782408335003\n",
    "}\n",
    "\n",
    "```"
   ]
  },
  {
   "cell_type": "code",
   "execution_count": 12,
   "id": "6fa03559",
   "metadata": {},
   "outputs": [],
   "source": [
    "if False:\n",
    "    submission_path = './checkpoints/smp_test25/FacebookModel_epoch=42_trn_loss_epoch=0.9105_trn_acc_epoch=0.0000_val_loss_epoch=0.4133_val_acc_epoch=0.9912_160x160_REF.h5'\n",
    "    embed_qry_d, embed_ref_d = read_submission(submission_path)\n",
    "\n",
    "    all_embed_qry_d_v.append(embed_qry_d)\n",
    "    all_embed_ref_d_v.append(embed_ref_d)\n",
    "    all_submission_path_v.append(submission_path)\n",
    "\n",
    "    all_mAP.append(0.6391913083007844)\n",
    "    all_desc.append( [s for s in submission_path.split('/') if 'test' in s][0] + '/epoch=' + [s for s in submission_path.split('_') if 'epoch' in s][0].split('=')[1]  )\n",
    "\n",
    "    if RUN_VALIDATIONS:\n",
    "        eval_d = evaluate(\n",
    "            submission_path=submission_path,\n",
    "            gt_path=public_ground_truth_path,\n",
    "            is_matching=False,\n",
    "        )"
   ]
  },
  {
   "cell_type": "markdown",
   "id": "339520bf",
   "metadata": {},
   "source": [
    "```\n",
    " Running evaluation on: \"./checkpoints/smp_test25/FacebookModel_epoch=42_trn_loss_epoch=0.9105_trn_acc_epoch=0.0000_val_loss_epoch=0.4133_val_acc_epoch=0.9912_160x160_REF.h5\"\n",
    "{\n",
    "  \"average_precision\": 0.6391913083007844,\n",
    "  \"recall_p90\": 0.5043077539571228\n",
    "}\n",
    "```"
   ]
  },
  {
   "cell_type": "markdown",
   "id": "a398941f",
   "metadata": {},
   "source": [
    "### - Test 26"
   ]
  },
  {
   "cell_type": "code",
   "execution_count": 13,
   "id": "15eb3429",
   "metadata": {},
   "outputs": [],
   "source": [
    "if True:\n",
    "    submission_path = \"./checkpoints/smp_test26/1.5M/FacebookModel_epoch=17_trn_loss_epoch=0.9250_trn_acc_epoch=0.0000_val_loss_epoch=0.4375_val_acc_epoch=0.9919_LIGHT_160x160_REF.h5\"\n",
    "    embed_qry_d, embed_ref_d = read_submission(submission_path)\n",
    "\n",
    "    all_embed_qry_d_v.append(embed_qry_d)\n",
    "    all_embed_ref_d_v.append(embed_ref_d)\n",
    "    all_submission_path_v.append(submission_path)\n",
    "\n",
    "    all_mAP.append(0.6607161760040644)\n",
    "    all_desc.append( [s for s in submission_path.split('/') if 'test' in s][0] + '/epoch=' + [s for s in submission_path.split('_') if 'epoch' in s][0].split('=')[1]  )\n",
    "\n",
    "    if RUN_VALIDATIONS:\n",
    "        eval_d = evaluate(\n",
    "            submission_path=submission_path,\n",
    "            gt_path=public_ground_truth_path,\n",
    "            is_matching=False,\n",
    "        )"
   ]
  },
  {
   "cell_type": "markdown",
   "id": "8e9a0a93",
   "metadata": {},
   "source": [
    "```\n",
    " Running evaluation on: \"./checkpoints/smp_test26/1.5M/FacebookModel_epoch=17_trn_loss_epoch=0.9250_trn_acc_epoch=0.0000_val_loss_epoch=0.4375_val_acc_epoch=0.9919_LIGHT_160x160_REF.h5\"\n",
    "{\n",
    "  \"average_precision\": 0.6607161760040644,\n",
    "  \"recall_p90\": 0.5487878180725305\n",
    "}\n",
    "```"
   ]
  },
  {
   "cell_type": "code",
   "execution_count": 14,
   "id": "52193c4f",
   "metadata": {},
   "outputs": [],
   "source": [
    "if False:\n",
    "    submission_path = \"./checkpoints/smp_test26/1.5M/FacebookModel_epoch=23_trn_loss_epoch=0.8591_trn_acc_epoch=0.0000_val_loss_epoch=0.4395_val_acc_epoch=0.9918_LIGHT_160x160_REF.h5\"\n",
    "    embed_qry_d, embed_ref_d = read_submission(submission_path)\n",
    "\n",
    "    all_embed_qry_d_v.append(embed_qry_d)\n",
    "    all_embed_ref_d_v.append(embed_ref_d)\n",
    "    all_submission_path_v.append(submission_path)\n",
    "\n",
    "    all_mAP.append(0.6468767301048789)\n",
    "    all_desc.append( [s for s in submission_path.split('/') if 'test' in s][0] + '/epoch=' + [s for s in submission_path.split('_') if 'epoch' in s][0].split('=')[1]  )\n",
    "\n",
    "    if RUN_VALIDATIONS:\n",
    "        eval_d = evaluate(\n",
    "            submission_path=submission_path,\n",
    "            gt_path=public_ground_truth_path,\n",
    "            is_matching=False,\n",
    "        )"
   ]
  },
  {
   "cell_type": "markdown",
   "id": "635e9dad",
   "metadata": {},
   "source": [
    "```\n",
    " Running evaluation on: \"./checkpoints/smp_test26/1.5M/FacebookModel_epoch=23_trn_loss_epoch=0.8591_trn_acc_epoch=0.0000_val_loss_epoch=0.4395_val_acc_epoch=0.9918_LIGHT_160x160_REF.h5\"\n",
    "{\n",
    "  \"average_precision\": 0.6468767301048789,\n",
    "  \"recall_p90\": 0.5369665397715888\n",
    "}\n",
    "\n",
    "```"
   ]
  },
  {
   "cell_type": "code",
   "execution_count": 15,
   "id": "7ad50029",
   "metadata": {},
   "outputs": [],
   "source": [
    "if False:\n",
    "    submission_path = \"./checkpoints/smp_test26/1.5M/FacebookModel_epoch=13_trn_loss_epoch=0.9797_trn_acc_epoch=0.0000_val_loss_epoch=0.4767_val_acc_epoch=0.9910_LIGHT_160x160_REF.h5\"\n",
    "    embed_qry_d, embed_ref_d = read_submission(submission_path)\n",
    "\n",
    "    all_embed_qry_d_v.append(embed_qry_d)\n",
    "    all_embed_ref_d_v.append(embed_ref_d)\n",
    "    all_submission_path_v.append(submission_path)\n",
    "\n",
    "    all_mAP.append(0.6564158976051848)\n",
    "    all_desc.append( [s for s in submission_path.split('/') if 'test' in s][0] + '/epoch=' + [s for s in submission_path.split('_') if 'epoch' in s][0].split('=')[1]  )\n",
    "\n",
    "    if RUN_VALIDATIONS:\n",
    "        eval_d = evaluate(\n",
    "            submission_path=submission_path,\n",
    "            gt_path=public_ground_truth_path,\n",
    "            is_matching=False,\n",
    "        )"
   ]
  },
  {
   "cell_type": "markdown",
   "id": "8dbd0b55",
   "metadata": {},
   "source": [
    "```\n",
    " Running evaluation on: \"./checkpoints/smp_test26/1.5M/FacebookModel_epoch=13_trn_loss_epoch=0.9797_trn_acc_epoch=0.0000_val_loss_epoch=0.4767_val_acc_epoch=0.9910_LIGHT_160x160_REF.h5\"\n",
    "{\n",
    "  \"average_precision\": 0.6564158976051848,\n",
    "  \"recall_p90\": 0.5435784411941494\n",
    "}\n",
    "```"
   ]
  },
  {
   "cell_type": "code",
   "execution_count": 16,
   "id": "82f8e740",
   "metadata": {},
   "outputs": [],
   "source": [
    "if False:\n",
    "    submission_path = \"./checkpoints/smp_test26/FacebookModel_epoch=46_trn_loss_epoch=0.8907_trn_acc_epoch=0.0000_val_loss_epoch=0.4081_val_acc_epoch=0.9923_160x160_REF.h5\"\n",
    "    embed_qry_d, embed_ref_d = read_submission(submission_path)\n",
    "\n",
    "    all_embed_qry_d_v.append(embed_qry_d)\n",
    "    all_embed_ref_d_v.append(embed_ref_d)\n",
    "    all_submission_path_v.append(submission_path)\n",
    "\n",
    "    all_mAP.append(0.6220850322176763)\n",
    "    all_desc.append( [s for s in submission_path.split('/') if 'test' in s][0] + '/epoch=' + [s for s in submission_path.split('_') if 'epoch' in s][0].split('=')[1]  )\n",
    "\n",
    "    if RUN_VALIDATIONS:\n",
    "        eval_d = evaluate(\n",
    "            submission_path=submission_path,\n",
    "            gt_path=public_ground_truth_path,\n",
    "            is_matching=False,\n",
    "        )"
   ]
  },
  {
   "cell_type": "markdown",
   "id": "9370fbe5",
   "metadata": {},
   "source": [
    "```\n",
    " Running evaluation on: \"./checkpoints/smp_test26/FacebookModel_epoch=46_trn_loss_epoch=0.8907_trn_acc_epoch=0.0000_val_loss_epoch=0.4081_val_acc_epoch=0.9923_160x160_REF.h5\"\n",
    "{\n",
    "  \"average_precision\": 0.6220850322176763,\n",
    "  \"recall_p90\": 0.46563814866760167\n",
    "}\n",
    "```"
   ]
  },
  {
   "cell_type": "code",
   "execution_count": 17,
   "id": "ee61c74b",
   "metadata": {},
   "outputs": [],
   "source": [
    "if False:\n",
    "    submission_path = './checkpoints/smp_test26/FacebookModel_epoch=27_trn_loss_epoch=0.7062_trn_acc_epoch=0.0000_val_loss_epoch=0.3296_val_acc_epoch=0.9935_160x160_REF.h5'\n",
    "    embed_qry_d, embed_ref_d = read_submission(submission_path)\n",
    "\n",
    "    all_embed_qry_d_v.append(embed_qry_d)\n",
    "    all_embed_ref_d_v.append(embed_ref_d)\n",
    "    all_submission_path_v.append(submission_path)\n",
    "\n",
    "    all_mAP.append(0.6068577970098343)\n",
    "    all_desc.append( [s for s in submission_path.split('/') if 'test' in s][0] + '/epoch=' + [s for s in submission_path.split('_') if 'epoch' in s][0].split('=')[1]  )\n",
    "\n",
    "    if RUN_VALIDATIONS:\n",
    "        eval_d = evaluate(\n",
    "            submission_path=submission_path,\n",
    "            gt_path=public_ground_truth_path,\n",
    "            is_matching=False,\n",
    "        )"
   ]
  },
  {
   "cell_type": "markdown",
   "id": "29d6c0a5",
   "metadata": {},
   "source": [
    "```\n",
    " Running evaluation on: \"./checkpoints/smp_test26/FacebookModel_epoch=27_trn_loss_epoch=0.7062_trn_acc_epoch=0.0000_val_loss_epoch=0.3296_val_acc_epoch=0.9935_160x160_REF.h5\"\n",
    "{\n",
    "  \"average_precision\": 0.6068577970098343,\n",
    "  \"recall_p90\": 0.44419955920657184\n",
    "}\n",
    "\n",
    "```"
   ]
  },
  {
   "cell_type": "markdown",
   "id": "662cf1c4",
   "metadata": {},
   "source": [
    "### - Test 9"
   ]
  },
  {
   "cell_type": "code",
   "execution_count": 18,
   "id": "316cf6c0",
   "metadata": {},
   "outputs": [],
   "source": [
    "if True:\n",
    "    submission_path = './checkpoints/sjy_test9/epoch=9-step=42649_LIGHT_160x160_REF.h5'\n",
    "    embed_qry_d, embed_ref_d = read_submission(submission_path)\n",
    "\n",
    "    all_embed_qry_d_v.append(embed_qry_d)\n",
    "    all_embed_ref_d_v.append(embed_ref_d)\n",
    "    all_submission_path_v.append(submission_path)\n",
    "\n",
    "    all_mAP.append(0.6516177146642039)\n",
    "    all_desc.append( [s for s in submission_path.split('/') if 'test' in s][0] + '/epoch=' + [s for s in submission_path.split('_') if 'epoch' in s][0].split('=')[1]  )\n",
    "\n",
    "    if RUN_VALIDATIONS:\n",
    "        eval_d = evaluate(\n",
    "            submission_path=submission_path,\n",
    "            gt_path=public_ground_truth_path,\n",
    "            is_matching=False,\n",
    "        )"
   ]
  },
  {
   "cell_type": "markdown",
   "id": "4ed08e2a",
   "metadata": {},
   "source": [
    "```\n",
    " Running evaluation on: \"./checkpoints/sjy_test9/epoch=9-step=42649_LIGHT_160x160_REF.h5\"\n",
    "{\n",
    "  \"average_precision\": 0.6516177146642039,\n",
    "  \"recall_p90\": 0.5551993588459226\n",
    "}\n",
    "\n",
    "```"
   ]
  },
  {
   "cell_type": "code",
   "execution_count": 19,
   "id": "52ff900c",
   "metadata": {},
   "outputs": [],
   "source": [
    "if False:\n",
    "    submission_path = './checkpoints/sjy_test9/epoch=24-step=106549_LIGHT_160x160_REF.h5'\n",
    "    embed_qry_d, embed_ref_d = read_submission(submission_path)\n",
    "\n",
    "    all_embed_qry_d_v.append(embed_qry_d)\n",
    "    all_embed_ref_d_v.append(embed_ref_d)\n",
    "    all_submission_path_v.append(submission_path)\n",
    "\n",
    "    all_mAP.append(0.6274077127084968)\n",
    "    all_desc.append( [s for s in submission_path.split('/') if 'test' in s][0] + '/epoch=' + [s for s in submission_path.split('_') if 'epoch' in s][0].split('=')[1]  )\n",
    "\n",
    "    if RUN_VALIDATIONS:\n",
    "        eval_d = evaluate(\n",
    "            submission_path=submission_path,\n",
    "            gt_path=public_ground_truth_path,\n",
    "            is_matching=False,\n",
    "        )"
   ]
  },
  {
   "cell_type": "markdown",
   "id": "3c7bb1c9",
   "metadata": {},
   "source": [
    "```\n",
    " Running evaluation on: \"./checkpoints/sjy_test9/epoch=24-step=106549_LIGHT_160x160_REF.h5\"\n",
    "{\n",
    "  \"average_precision\": 0.6274077127084968,\n",
    "  \"recall_p90\": 0.5227409336806251\n",
    "}\n",
    "```"
   ]
  },
  {
   "cell_type": "markdown",
   "id": "896d16c2",
   "metadata": {},
   "source": [
    "### - Test 10"
   ]
  },
  {
   "cell_type": "code",
   "execution_count": 20,
   "id": "de1eb680",
   "metadata": {},
   "outputs": [],
   "source": [
    "if True:\n",
    "    submission_path = './checkpoints/sjy_test10/epoch=37-step=161955_LIGHT_160x160_REF.h5'\n",
    "    embed_qry_d, embed_ref_d = read_submission(submission_path)\n",
    "\n",
    "    all_embed_qry_d_v.append(embed_qry_d)\n",
    "    all_embed_ref_d_v.append(embed_ref_d)\n",
    "    all_submission_path_v.append(submission_path)\n",
    "\n",
    "    all_mAP.append(0.6640340405074514)\n",
    "    all_desc.append( [s for s in submission_path.split('/') if 'test' in s][0] + '/epoch=' + [s for s in submission_path.split('_') if 'epoch' in s][0].split('=')[1]  )\n",
    "\n",
    "    if RUN_VALIDATIONS:\n",
    "        eval_d = evaluate(\n",
    "            submission_path=submission_path,\n",
    "            gt_path=public_ground_truth_path,\n",
    "            is_matching=False,\n",
    "        )"
   ]
  },
  {
   "cell_type": "markdown",
   "id": "23c7a46e",
   "metadata": {},
   "source": [
    "```\n",
    " Running evaluation on: \"./checkpoints/sjy_test10/epoch=37-step=161955_LIGHT_160x160_REF.h5\"\n",
    "{\n",
    "  \"average_precision\": 0.6640340405074514,\n",
    "  \"recall_p90\": 0.5503907032658786\n",
    "}\n",
    "```"
   ]
  },
  {
   "cell_type": "code",
   "execution_count": 21,
   "id": "995b331c",
   "metadata": {},
   "outputs": [],
   "source": [
    "if False:\n",
    "    submission_path = './checkpoints/sjy_test10/epoch=9-step=42619_LIGHT_160x160_REF.h5'\n",
    "    embed_qry_d, embed_ref_d = read_submission(submission_path)\n",
    "\n",
    "    all_embed_qry_d_v.append(embed_qry_d)\n",
    "    all_embed_ref_d_v.append(embed_ref_d)\n",
    "    all_submission_path_v.append(submission_path)\n",
    "\n",
    "    all_mAP.append(0.6507371733985617)\n",
    "    all_desc.append( [s for s in submission_path.split('/') if 'test' in s][0] + '/epoch=' + [s for s in submission_path.split('_') if 'epoch' in s][0].split('=')[1]  )\n",
    "\n",
    "    if RUN_VALIDATIONS:\n",
    "        eval_d = evaluate(\n",
    "            submission_path=submission_path,\n",
    "            gt_path=public_ground_truth_path,\n",
    "            is_matching=False,\n",
    "        )"
   ]
  },
  {
   "cell_type": "markdown",
   "id": "202e4051",
   "metadata": {},
   "source": [
    "```\n",
    " Running evaluation on: \"./checkpoints/sjy_test10/epoch=9-step=42619_LIGHT_160x160_REF.h5\"\n",
    "{\n",
    "  \"average_precision\": 0.6507371733985617,\n",
    "  \"recall_p90\": 0.5301542776998598\n",
    "}\n",
    "```"
   ]
  },
  {
   "cell_type": "markdown",
   "id": "e293aa90",
   "metadata": {},
   "source": [
    "### - Test 27"
   ]
  },
  {
   "cell_type": "code",
   "execution_count": 22,
   "id": "89ae35be",
   "metadata": {},
   "outputs": [],
   "source": [
    "if False:\n",
    "    submission_path = './checkpoints/smp_test27/500k/FacebookModel_epoch=46_trn_loss_epoch=0.6166_trn_acc_epoch=0.0000_val_loss_epoch=0.2987_val_acc_epoch=0.9936_160x160_REF.h5'\n",
    "    embed_qry_d, embed_ref_d = read_submission(submission_path)\n",
    "\n",
    "    all_embed_qry_d_v.append(embed_qry_d)\n",
    "    all_embed_ref_d_v.append(embed_ref_d)\n",
    "    all_submission_path_v.append(submission_path)\n",
    "\n",
    "    all_mAP.append(0.6168475134759833)\n",
    "    all_desc.append( [s for s in submission_path.split('/') if 'test' in s][0] + '/epoch=' + [s for s in submission_path.split('_') if 'epoch' in s][0].split('=')[1]  )\n",
    "\n",
    "    if RUN_VALIDATIONS:\n",
    "        eval_d = evaluate(\n",
    "            submission_path=submission_path,\n",
    "            gt_path=public_ground_truth_path,\n",
    "            is_matching=False,\n",
    "        )"
   ]
  },
  {
   "cell_type": "markdown",
   "id": "7cfa1674",
   "metadata": {},
   "source": [
    "```\n",
    " Running evaluation on: \"./checkpoints/smp_test27/500k/FacebookModel_epoch=46_trn_loss_epoch=0.6166_trn_acc_epoch=0.0000_val_loss_epoch=0.2987_val_acc_epoch=0.9936_160x160_REF.h5\"\n",
    "{\n",
    "  \"average_precision\": 0.6168475134759833,\n",
    "  \"recall_p90\": 0.48707673812863156\n",
    "}\n",
    "```"
   ]
  },
  {
   "cell_type": "markdown",
   "id": "f02147b8",
   "metadata": {},
   "source": [
    "## Ensemble"
   ]
  },
  {
   "cell_type": "code",
   "execution_count": 23,
   "id": "structured-monte",
   "metadata": {
    "scrolled": false
   },
   "outputs": [
    {
     "name": "stdout",
     "output_type": "stream",
     "text": [
      " Selected, 8 models:\n",
      "\n",
      "* SUB0 sjy_test5/epoch=51 mAP=0.636: \n",
      "  FacebookModel_Eepoch=51_TLtrn_loss_epoch=0.8669_TAtrn_acc_epoch=0.9914_VLval_loss_epoch=0.4390_VAval_acc_epoch=0.9930_512x512_REF.h5\n",
      "\n",
      "* SUB1 smp_test19/epoch=67 mAP=0.638: \n",
      "  FacebookModel_Eepoch=67_TLtrn_loss_epoch=0.9913_TAtrn_acc_epoch=0.0000_VLval_loss_epoch=0.4815_VAval_acc_epoch=0.9893_224x224_REF.h5\n",
      "\n",
      "* SUB2 smp_test24/epoch=79 mAP=0.652: \n",
      "  FacebookModel_epoch=79_trn_loss_epoch=0.6660_trn_acc_epoch=0.0000_val_loss_epoch=0.3122_val_acc_epoch=0.9937_160x160_REF.h5\n",
      "\n",
      "* SUB3 smp_test25/epoch=16 mAP=0.664: \n",
      "  FacebookModel_epoch=16_trn_loss_epoch=0.9023_trn_acc_epoch=0.0000_val_loss_epoch=0.4303_val_acc_epoch=0.9911_160x160_REF.h5\n",
      "\n",
      "* SUB4 smp_test25/epoch=14 mAP=0.664: \n",
      "  FacebookModel_epoch=14_trn_loss_epoch=0.8997_trn_acc_epoch=0.0000_val_loss_epoch=0.4437_val_acc_epoch=0.9912_160x160_REF.h5\n",
      "\n",
      "* SUB5 smp_test26/epoch=17 mAP=0.661: \n",
      "  FacebookModel_epoch=17_trn_loss_epoch=0.9250_trn_acc_epoch=0.0000_val_loss_epoch=0.4375_val_acc_epoch=0.9919_LIGHT_160x160_REF.h5\n",
      "\n",
      "* SUB6 sjy_test9/epoch=9-step mAP=0.652: \n",
      "  epoch=9-step=42649_LIGHT_160x160_REF.h5\n",
      "\n",
      "* SUB7 sjy_test10/epoch=37-step mAP=0.664: \n",
      "  epoch=37-step=161955_LIGHT_160x160_REF.h5\n",
      "\n"
     ]
    }
   ],
   "source": [
    "assert len(all_embed_ref_d_v) == len(all_embed_qry_d_v)\n",
    "\n",
    "embed_ref = np.concatenate([embed_ref_d['embedding'] for embed_ref_d in all_embed_ref_d_v], axis=1)\n",
    "embed_qry = np.concatenate([embed_qry_d['embedding'] for embed_qry_d in all_embed_qry_d_v], axis=1)\n",
    "\n",
    "\n",
    "sample_id_ref = all_embed_ref_d_v[0]['sample_id']\n",
    "sample_id_qry = all_embed_qry_d_v[0]['sample_id']\n",
    "\n",
    "print(f' Selected, {len(all_submission_path_v)} models:\\n')\n",
    "for i, sub in enumerate(all_submission_path_v):\n",
    "    print(f'* SUB{i} {all_desc[i]} mAP={all_mAP[i]:0.3f}: \\n  {os.path.basename(sub)}')\n",
    "    print()"
   ]
  },
  {
   "cell_type": "code",
   "execution_count": 24,
   "id": "0d1a8efe",
   "metadata": {},
   "outputs": [
    {
     "data": {
      "text/plain": [
       "0"
      ]
     },
     "execution_count": 24,
     "metadata": {},
     "output_type": "execute_result"
    }
   ],
   "source": [
    "if 'all_embed_ref_d_v' in dir():\n",
    "    del(all_embed_ref_d_v)\n",
    "if 'all_embed_qry_d_v' in dir():\n",
    "    del(all_embed_qry_d_v)\n",
    "gc.collect()"
   ]
  },
  {
   "cell_type": "code",
   "execution_count": 25,
   "id": "d18c34fd",
   "metadata": {},
   "outputs": [
    {
     "name": "stdout",
     "output_type": "stream",
     "text": [
      "Reading:  ./checkpoints/sjy_test5/FacebookModel_Eepoch=51_TLtrn_loss_epoch=0.8669_TAtrn_acc_epoch=0.9914_VLval_loss_epoch=0.4390_VAval_acc_epoch=0.9930_512x512_TRN.h5\n",
      "Reading:  ./checkpoints/smp_test19/FacebookModel_Eepoch=67_TLtrn_loss_epoch=0.9913_TAtrn_acc_epoch=0.0000_VLval_loss_epoch=0.4815_VAval_acc_epoch=0.9893_224x224_TRN.h5\n",
      "Reading:  ./checkpoints/smp_test24/FacebookModel_epoch=79_trn_loss_epoch=0.6660_trn_acc_epoch=0.0000_val_loss_epoch=0.3122_val_acc_epoch=0.9937_160x160_TRN.h5\n",
      "Reading:  ./checkpoints/smp_test25/FacebookModel_epoch=16_trn_loss_epoch=0.9023_trn_acc_epoch=0.0000_val_loss_epoch=0.4303_val_acc_epoch=0.9911_160x160_TRN.h5\n",
      "Reading:  ./checkpoints/smp_test25/FacebookModel_epoch=14_trn_loss_epoch=0.8997_trn_acc_epoch=0.0000_val_loss_epoch=0.4437_val_acc_epoch=0.9912_160x160_TRN.h5\n",
      "Reading:  ./checkpoints/smp_test26/1.5M/FacebookModel_epoch=17_trn_loss_epoch=0.9250_trn_acc_epoch=0.0000_val_loss_epoch=0.4375_val_acc_epoch=0.9919_LIGHT_160x160_TRN.h5\n",
      "Reading:  ./checkpoints/sjy_test9/epoch=9-step=42649_LIGHT_160x160_TRN.h5\n",
      "Reading:  ./checkpoints/sjy_test10/epoch=37-step=161955_LIGHT_160x160_TRN.h5\n"
     ]
    }
   ],
   "source": [
    "all_embed_trn_d_v = []\n",
    "\n",
    "for submission_path in all_submission_path_v:\n",
    "    assert 'REF' in submission_path\n",
    "    submission_path = submission_path.replace('REF', 'TRN')\n",
    "    print('Reading: ', submission_path)\n",
    "    \n",
    "    _, embed_trn_d = read_submission(submission_path)\n",
    "    all_embed_trn_d_v.append(embed_trn_d)"
   ]
  },
  {
   "cell_type": "code",
   "execution_count": 26,
   "id": "b3a05f24",
   "metadata": {},
   "outputs": [],
   "source": [
    "embed_trn = np.concatenate([embed_trn_d['embedding'] for embed_trn_d in all_embed_trn_d_v], axis=1)\n",
    "\n",
    "sample_id_trn = all_embed_trn_d_v[0]['sample_id']"
   ]
  },
  {
   "cell_type": "code",
   "execution_count": 27,
   "id": "76245013",
   "metadata": {},
   "outputs": [
    {
     "data": {
      "text/plain": [
       "0"
      ]
     },
     "execution_count": 27,
     "metadata": {},
     "output_type": "execute_result"
    }
   ],
   "source": [
    "if 'all_embed_trn_d_v' in dir():\n",
    "    del(all_embed_trn_d_v)\n",
    "    \n",
    "gc.collect()"
   ]
  },
  {
   "cell_type": "code",
   "execution_count": 28,
   "id": "korean-terrorism",
   "metadata": {},
   "outputs": [
    {
     "name": "stdout",
     "output_type": "stream",
     "text": [
      "INPUT_DIM = 2816    OUTPUT_DIM = 256\n"
     ]
    }
   ],
   "source": [
    "OUTPUT_DIM = 256\n",
    "INPUT_DIM = embed_ref.shape[1]\n",
    "SQRT_EIGENVALUES = True\n",
    "L2_NORMALIZE = True\n",
    "\n",
    "print(f'INPUT_DIM = {INPUT_DIM}    OUTPUT_DIM = {OUTPUT_DIM}')"
   ]
  },
  {
   "cell_type": "code",
   "execution_count": 29,
   "id": "upset-synthesis",
   "metadata": {},
   "outputs": [
    {
     "name": "stdout",
     "output_type": "stream",
     "text": [
      " - Training PCA ... Ok!\n"
     ]
    }
   ],
   "source": [
    "if SQRT_EIGENVALUES:\n",
    "    PCA = faiss.PCAMatrix(INPUT_DIM, OUTPUT_DIM, -0.5)\n",
    "    \n",
    "else:\n",
    "    PCA = faiss.PCAMatrix(INPUT_DIM, out_dim, 0.0)\n",
    "    \n",
    "print(' - Training PCA ...', end='')\n",
    "# PCA.train(embed_ref)\n",
    "PCA.train(embed_trn)\n",
    "print(' Ok!')"
   ]
  },
  {
   "cell_type": "code",
   "execution_count": 30,
   "id": "satellite-journal",
   "metadata": {
    "scrolled": true
   },
   "outputs": [
    {
     "name": "stdout",
     "output_type": "stream",
     "text": [
      " - Projecting REF ... Ok!\n",
      " - Projecting QRY ... Ok!\n",
      " - Normalizing REF ... Ok!\n",
      " - Normalizing QRY ... Ok!\n"
     ]
    }
   ],
   "source": [
    "print(' - Projecting REF ...', end='')\n",
    "pca_embed_ref = PCA.apply_py(embed_ref)\n",
    "print(' Ok!')\n",
    "\n",
    "print(' - Projecting QRY ...', end='')\n",
    "pca_embed_qry = PCA.apply_py(embed_qry)\n",
    "print(' Ok!')\n",
    "\n",
    "if L2_NORMALIZE:\n",
    "    print(' - Normalizing REF ...', end='')\n",
    "    faiss.normalize_L2(pca_embed_ref)\n",
    "    print(' Ok!')\n",
    "    \n",
    "    print(' - Normalizing QRY ...', end='')\n",
    "    faiss.normalize_L2(pca_embed_qry)\n",
    "    print(' Ok!')\n",
    "\n",
    "\n",
    "embed_qry_d = {\n",
    "    'embedding': pca_embed_qry,\n",
    "    'sample_id': sample_id_qry,\n",
    "}\n",
    "\n",
    "\n",
    "embed_ref_d = {\n",
    "    'embedding': pca_embed_ref,\n",
    "    'sample_id': sample_id_ref,\n",
    "}\n"
   ]
  },
  {
   "cell_type": "code",
   "execution_count": 31,
   "id": "proud-field",
   "metadata": {},
   "outputs": [
    {
     "name": "stdout",
     "output_type": "stream",
     "text": [
      " - Saved: ./submissions/submission_V9.h5\n"
     ]
    }
   ],
   "source": [
    "submission_path = f'./submissions/submission_V{VERSION}.h5'\n",
    "\n",
    "save_submission(\n",
    "    embed_qry_d,\n",
    "    embed_ref_d,\n",
    "    save_path=submission_path,\n",
    ")"
   ]
  },
  {
   "cell_type": "code",
   "execution_count": 32,
   "id": "45e93100",
   "metadata": {
    "scrolled": true
   },
   "outputs": [
    {
     "name": "stdout",
     "output_type": "stream",
     "text": [
      " Running evaluation on: \"./submissions/submission_V9.h5\"\n",
      "{\n",
      "  \"average_precision\": 0.6868762390552113,\n",
      "  \"recall_p90\": 0.5742336205169305\n",
      "}\n"
     ]
    }
   ],
   "source": [
    "eval_d = evaluate(\n",
    "    submission_path=submission_path,\n",
    "    gt_path=public_ground_truth_path,\n",
    "    is_matching=False,\n",
    ")"
   ]
  },
  {
   "cell_type": "markdown",
   "id": "72314974",
   "metadata": {},
   "source": [
    "### Adding GT samples"
   ]
  },
  {
   "cell_type": "code",
   "execution_count": 31,
   "id": "82f23cfb",
   "metadata": {
    "scrolled": true
   },
   "outputs": [
    {
     "name": "stderr",
     "output_type": "stream",
     "text": [
      "100%|████████████████████████████████████| 4991/4991 [00:00<00:00, 80190.35it/s]\n"
     ]
    },
    {
     "name": "stdout",
     "output_type": "stream",
     "text": [
      " - Saved: ./submissions/submission_V8_GT.h5\n"
     ]
    }
   ],
   "source": [
    "gt_embed_qry_d = add_GT_description_v2(embed_qry_d, embed_ref_d, public_gt)\n",
    "\n",
    "save_submission(\n",
    "    gt_embed_qry_d,\n",
    "    embed_ref_d,\n",
    "    save_path=submission_path.replace('.h5', '_GT.h5'),\n",
    ")"
   ]
  },
  {
   "cell_type": "markdown",
   "id": "0e5a7280",
   "metadata": {},
   "source": [
    "```\n",
    " Running evaluation on: \"./submissions/submission_V9.h5\"\n",
    "{\n",
    "  \"average_precision\": 0.6868762390552113,\n",
    "  \"recall_p90\": 0.5742336205169305\n",
    "}\n",
    "```"
   ]
  },
  {
   "cell_type": "markdown",
   "id": "5b81580e",
   "metadata": {},
   "source": [
    "### Summary\n",
    "\n",
    "\n",
    " - ENSEMBLE: sjy_test5/epoch=51  smp_test19/epoch=67   smp_test24/epoch=79/1M  smp_test25/epoch=16/1M  smp_test25/epoch=14  smp_test26/epoch=17  sjy_test9/epoch=9  sjy_test10/epoch=37:\n",
    "```\n",
    " Running evaluation on: \"./submissions/submission_V8.h5\"\n",
    "{\n",
    "  \"average_precision\": 0.6856768037758303,\n",
    "  \"recall_p90\": 0.5730314566219195\n",
    "}\n",
    "```\n"
   ]
  },
  {
   "cell_type": "markdown",
   "id": "317dcb7c",
   "metadata": {},
   "source": [
    "## ENSEMBLE + TRN Samples Normalization"
   ]
  },
  {
   "cell_type": "code",
   "execution_count": 33,
   "id": "43760a4c",
   "metadata": {},
   "outputs": [
    {
     "name": "stdout",
     "output_type": "stream",
     "text": [
      " - Projecting TRN ... Ok!\n",
      " - Normalizing TRN ... Ok!\n"
     ]
    }
   ],
   "source": [
    "print(' - Projecting TRN ...', end='')\n",
    "pca_embed_trn = PCA.apply_py(embed_trn)\n",
    "print(' Ok!')\n",
    "\n",
    "if L2_NORMALIZE:\n",
    "    print(' - Normalizing TRN ...', end='')\n",
    "    faiss.normalize_L2(pca_embed_trn)\n",
    "    print(' Ok!')\n",
    "    \n",
    "\n",
    "embed_trn_d = {\n",
    "    'embedding': pca_embed_trn,\n",
    "    'sample_id': sample_id_trn,\n",
    "}"
   ]
  },
  {
   "cell_type": "code",
   "execution_count": 34,
   "id": "20e7fb62",
   "metadata": {
    "scrolled": true
   },
   "outputs": [
    {
     "name": "stderr",
     "output_type": "stream",
     "text": [
      "100%|█████████████████████████████████████████| 100/100 [00:03<00:00, 26.77it/s]\n"
     ]
    }
   ],
   "source": [
    "match_d = calc_match_scores(embed_qry_d, embed_trn_d, k=100, gpu_id=0)"
   ]
  },
  {
   "cell_type": "code",
   "execution_count": 35,
   "id": "62e93b0f",
   "metadata": {
    "scrolled": true
   },
   "outputs": [],
   "source": [
    "K = 100\n",
    "\n",
    "e_trn = embed_trn_d['embedding'][match_d['I'][:,:K]]\n",
    "\n",
    "# vectors from k_trn_embeddings to query_embedding\n",
    "d_tq = embed_qry_d['embedding'][:,None,:] - e_trn\n",
    "\n",
    "# vectors normalization\n",
    "d_tq_norm = d_tq / np.linalg.norm(d_tq, axis=1, keepdims=True)\n",
    "\n",
    "# Calculating mean direction\n",
    "d_tq_norm_mean = d_tq_norm.mean(axis=1)\n",
    "\n",
    "# direction normalization\n",
    "d_tq_norm_mean_norm = d_tq_norm_mean / np.linalg.norm(d_tq_norm_mean, keepdims=True, axis=1)"
   ]
  },
  {
   "cell_type": "code",
   "execution_count": 36,
   "id": "9c0afa3a",
   "metadata": {},
   "outputs": [],
   "source": [
    "# K = 100\n",
    "\n",
    "# e_trn = embed_trn_d['embedding'][match_d['I'][:,:K]]\n",
    "\n",
    "# # vectors from k_trn_embeddings to query_embedding\n",
    "# d_tq = embed_qry_d['embedding'][:,None,:] - e_trn\n",
    "\n",
    "# # vectors normalization\n",
    "# d_tq_norm = d_tq / np.linalg.norm(d_tq, axis=1, keepdims=True)\n",
    "\n",
    "# # Cosine Weighting Factors\n",
    "# C = (1 / match_d['C'][:,:K,None])\n",
    "# C = C / C.sum(axis=1, keepdims=True)\n",
    "\n",
    "# # Calculating mean direction\n",
    "# d_tq_norm_mean = (d_tq_norm * C).sum(axis=1)\n",
    "\n",
    "# # direction normalization\n",
    "# d_tq_norm_mean_norm = d_tq_norm_mean / np.linalg.norm(d_tq_norm_mean, keepdims=True, axis=1)"
   ]
  },
  {
   "cell_type": "code",
   "execution_count": 37,
   "id": "24627d54",
   "metadata": {},
   "outputs": [],
   "source": [
    "cos_mean_v = match_d['C'][:,:3].mean(axis=1)\n",
    "\n",
    "norm_embed_qry_d = {\n",
    "    'embedding': (embed_qry_d['embedding'] + 1.8 * np.sqrt(cos_mean_v[:,None]) * d_tq_norm_mean_norm),\n",
    "    'sample_id': embed_qry_d['sample_id']\n",
    "}"
   ]
  },
  {
   "cell_type": "code",
   "execution_count": 38,
   "id": "d720691b",
   "metadata": {
    "scrolled": true
   },
   "outputs": [],
   "source": [
    "# cos_mean_v = match_d['C'][:,:3].mean(axis=1)\n",
    "\n",
    "# norm_embed_qry_d = {\n",
    "#     'embedding': embed_qry_d['embedding'] * (1 + 2.0 * np.sqrt(cos_mean_v[:,None]) ),\n",
    "#     'sample_id': embed_qry_d['sample_id']\n",
    "# }"
   ]
  },
  {
   "cell_type": "code",
   "execution_count": 39,
   "id": "a02b46fa",
   "metadata": {},
   "outputs": [
    {
     "name": "stdout",
     "output_type": "stream",
     "text": [
      " - Saved: ./submissions/submission_V9_NORM.h5\n"
     ]
    }
   ],
   "source": [
    "submission_path = f'./submissions/submission_V{VERSION}_NORM.h5'\n",
    "\n",
    "save_submission(\n",
    "    norm_embed_qry_d,\n",
    "    embed_ref_d,\n",
    "    save_path=submission_path,\n",
    ")"
   ]
  },
  {
   "cell_type": "code",
   "execution_count": 40,
   "id": "0acb3bfe",
   "metadata": {},
   "outputs": [
    {
     "name": "stdout",
     "output_type": "stream",
     "text": [
      " Running evaluation on: \"./submissions/submission_V9_NORM.h5\"\n",
      "{\n",
      "  \"average_precision\": 0.7266759010822975,\n",
      "  \"recall_p90\": 0.6521739130434783\n",
      "}\n"
     ]
    }
   ],
   "source": [
    "eval_d = evaluate(\n",
    "    submission_path=submission_path,\n",
    "    gt_path=public_ground_truth_path,\n",
    "    is_matching=False,\n",
    ")"
   ]
  },
  {
   "cell_type": "markdown",
   "id": "christian-asian",
   "metadata": {},
   "source": [
    "### Adding GT samples"
   ]
  },
  {
   "cell_type": "code",
   "execution_count": 44,
   "id": "demonstrated-marsh",
   "metadata": {},
   "outputs": [
    {
     "name": "stderr",
     "output_type": "stream",
     "text": [
      "100%|███████████████████████████████████| 4991/4991 [00:00<00:00, 125333.16it/s]\n"
     ]
    },
    {
     "name": "stdout",
     "output_type": "stream",
     "text": [
      " - Saved: ./submissions/submission_V8_NORM_GT.h5\n"
     ]
    }
   ],
   "source": [
    "gt_norm_embed_qry_d = add_GT_description_v3(\n",
    "    norm_embed_qry_d, \n",
    "    embed_ref_d, \n",
    "    public_gt,factor=1.1\n",
    ")\n",
    "\n",
    "save_submission(\n",
    "    gt_norm_embed_qry_d,\n",
    "    embed_ref_d,\n",
    "    save_path=submission_path.replace('.h5', '_GT.h5'),\n",
    ")"
   ]
  },
  {
   "cell_type": "markdown",
   "id": "a1642e88",
   "metadata": {},
   "source": [
    "### Checking half GT"
   ]
  },
  {
   "cell_type": "code",
   "execution_count": 45,
   "id": "272b0a74",
   "metadata": {},
   "outputs": [
    {
     "name": "stderr",
     "output_type": "stream",
     "text": [
      "100%|████████████████████████████████████| 2495/2495 [00:00<00:00, 95397.22it/s]\n"
     ]
    },
    {
     "name": "stdout",
     "output_type": "stream",
     "text": [
      " - Saved: ./delete.h5\n",
      " Running evaluation on: \"./delete.h5\"\n",
      "{\n",
      "  \"average_precision\": 0.8685009232861345,\n",
      "  \"recall_p90\": 0.8353035463834902\n",
      "}\n"
     ]
    }
   ],
   "source": [
    "half_gt_norm_embed_qry_d = add_GT_description_v3(\n",
    "    norm_embed_qry_d, \n",
    "    embed_ref_d, \n",
    "    public_gt[~public_gt.reference_id.isna()].iloc[:4991//2],\n",
    "    factor=1.1,\n",
    ")\n",
    "\n",
    "save_submission(\n",
    "    half_gt_norm_embed_qry_d,\n",
    "    embed_ref_d,\n",
    "    save_path='./delete.h5',\n",
    ")\n",
    "\n",
    "eval_d = evaluate(\n",
    "    submission_path='./delete.h5',\n",
    "    gt_path=public_ground_truth_path,\n",
    "    is_matching=False,\n",
    ")\n",
    "\n",
    "os.remove('./delete.h5')"
   ]
  },
  {
   "cell_type": "markdown",
   "id": "8bdd50b5",
   "metadata": {},
   "source": [
    "### Summary\n",
    "\n",
    "V8 ENSEMBLE + TRN_NORM: sjy_test5/epoch=51 smp_test19/epoch=67 smp_test24/epoch=79/1M smp_test25/epoch=16/1M smp_test25/epoch=14 smp_test26/epoch=17 sjy_test9/epoch=9 sjy_test10/epoch=37:\n",
    "```\n",
    "{\n",
    "  \"average_precision\": 0.7264227738017275,\n",
    "  \"recall_p90\": 0.6529753556401523\n",
    "}\n",
    "```\n",
    "\n",
    "\n",
    "### half GT\n",
    "```\n",
    "1.8 + factor = 1.1\n",
    "{\n",
    "  \"average_precision\": 0.8685009232861345,\n",
    "  \"recall_p90\": 0.8353035463834902\n",
    "}\n",
    "```\n"
   ]
  },
  {
   "cell_type": "markdown",
   "id": "ba7170ec",
   "metadata": {},
   "source": [
    "# ################################################"
   ]
  },
  {
   "cell_type": "markdown",
   "id": "elect-stress",
   "metadata": {},
   "source": [
    "# Matching task"
   ]
  },
  {
   "cell_type": "code",
   "execution_count": 46,
   "id": "a4a7e8c8",
   "metadata": {
    "scrolled": true
   },
   "outputs": [
    {
     "data": {
      "text/plain": [
       "89"
      ]
     },
     "execution_count": 46,
     "metadata": {},
     "output_type": "execute_result"
    }
   ],
   "source": [
    "if \"embed_ref\" in dir():\n",
    "    del(embed_ref)\n",
    "\n",
    "if \"embed_qry\" in dir():\n",
    "    del(embed_qry)\n",
    "    \n",
    "if \"embed_trn\" in dir():\n",
    "    del(embed_trn)\n",
    "    \n",
    "if \"all_embed_qry_d_v\" in dir():\n",
    "    del(all_embed_qry_d_v)\n",
    "\n",
    "if \"all_embed_ref_d_v\" in dir():\n",
    "    del(all_embed_ref_d_v)\n",
    "    \n",
    "if \"all_embed_trn_d_v\" in dir():\n",
    "    del(all_embed_trn_d_v)\n",
    "\n",
    "gc.collect()"
   ]
  },
  {
   "cell_type": "code",
   "execution_count": 47,
   "id": "e0347d4d",
   "metadata": {},
   "outputs": [],
   "source": [
    "all_submission_path_v = [\n",
    "    './checkpoints/sjy_test5/FacebookModel_Eepoch=51_TLtrn_loss_epoch=0.8669_TAtrn_acc_epoch=0.9914_VLval_loss_epoch=0.4390_VAval_acc_epoch=0.9930_512x512_REF.h5',\n",
    "    './checkpoints/smp_test19/FacebookModel_Eepoch=67_TLtrn_loss_epoch=0.9913_TAtrn_acc_epoch=0.0000_VLval_loss_epoch=0.4815_VAval_acc_epoch=0.9893_224x224_REF.h5',\n",
    "    \n",
    "    './checkpoints/smp_test22/FacebookModel_Eepoch=15_TLtrn_loss_epoch=2.1522_TAtrn_acc_epoch=0.0000_VLval_loss_epoch=nan_VAval_acc_epoch=0.9752_160x160_REF.h5',\n",
    "    \n",
    "    './checkpoints/smp_test24/FacebookModel_epoch=79_trn_loss_epoch=0.6660_trn_acc_epoch=0.0000_val_loss_epoch=0.3122_val_acc_epoch=0.9937_160x160_REF.h5',\n",
    "    \n",
    "    './checkpoints/smp_test25/FacebookModel_epoch=16_trn_loss_epoch=0.9023_trn_acc_epoch=0.0000_val_loss_epoch=0.4303_val_acc_epoch=0.9911_160x160_REF.h5',\n",
    "    './checkpoints/smp_test25/FacebookModel_epoch=14_trn_loss_epoch=0.8997_trn_acc_epoch=0.0000_val_loss_epoch=0.4437_val_acc_epoch=0.9912_160x160_REF.h5',\n",
    "    \n",
    "    './checkpoints/smp_test26/FacebookModel_epoch=27_trn_loss_epoch=0.7062_trn_acc_epoch=0.0000_val_loss_epoch=0.3296_val_acc_epoch=0.9935_160x160_REF.h5',\n",
    "    './checkpoints/smp_test26/1.5M/FacebookModel_epoch=17_trn_loss_epoch=0.9250_trn_acc_epoch=0.0000_val_loss_epoch=0.4375_val_acc_epoch=0.9919_LIGHT_160x160_REF.h5',\n",
    "    \n",
    "    './checkpoints/sjy_test9/epoch=9-step=42649_LIGHT_160x160_REF.h5',\n",
    "    \n",
    "    './checkpoints/sjy_test10/epoch=9-step=42619_LIGHT_160x160_REF.h5',\n",
    "    './checkpoints/sjy_test10/epoch=37-step=161955_LIGHT_160x160_REF.h5',\n",
    "]"
   ]
  },
  {
   "cell_type": "code",
   "execution_count": 48,
   "id": "74514448",
   "metadata": {},
   "outputs": [
    {
     "name": "stdout",
     "output_type": "stream",
     "text": [
      "Loaded: ./checkpoints/sjy_test5/FacebookModel_Eepoch=51_TLtrn_loss_epoch=0.8669_TAtrn_acc_epoch=0.9914_VLval_loss_epoch=0.4390_VAval_acc_epoch=0.9930_512x512_REF_match_d.pickle\n",
      "Loaded: ./checkpoints/sjy_test5/FacebookModel_Eepoch=51_TLtrn_loss_epoch=0.8669_TAtrn_acc_epoch=0.9914_VLval_loss_epoch=0.4390_VAval_acc_epoch=0.9930_512x512_TRN_match_d.pickle\n",
      "Loaded: ./checkpoints/smp_test19/FacebookModel_Eepoch=67_TLtrn_loss_epoch=0.9913_TAtrn_acc_epoch=0.0000_VLval_loss_epoch=0.4815_VAval_acc_epoch=0.9893_224x224_REF_match_d.pickle\n",
      "Loaded: ./checkpoints/smp_test19/FacebookModel_Eepoch=67_TLtrn_loss_epoch=0.9913_TAtrn_acc_epoch=0.0000_VLval_loss_epoch=0.4815_VAval_acc_epoch=0.9893_224x224_TRN_match_d.pickle\n",
      "Loaded: ./checkpoints/smp_test22/FacebookModel_Eepoch=15_TLtrn_loss_epoch=2.1522_TAtrn_acc_epoch=0.0000_VLval_loss_epoch=nan_VAval_acc_epoch=0.9752_160x160_REF_match_d.pickle\n",
      "Loaded: ./checkpoints/smp_test22/FacebookModel_Eepoch=15_TLtrn_loss_epoch=2.1522_TAtrn_acc_epoch=0.0000_VLval_loss_epoch=nan_VAval_acc_epoch=0.9752_160x160_TRN_match_d.pickle\n",
      "Loaded: ./checkpoints/smp_test24/FacebookModel_epoch=79_trn_loss_epoch=0.6660_trn_acc_epoch=0.0000_val_loss_epoch=0.3122_val_acc_epoch=0.9937_160x160_REF_match_d.pickle\n",
      "Loaded: ./checkpoints/smp_test24/FacebookModel_epoch=79_trn_loss_epoch=0.6660_trn_acc_epoch=0.0000_val_loss_epoch=0.3122_val_acc_epoch=0.9937_160x160_TRN_match_d.pickle\n",
      "Loaded: ./checkpoints/smp_test25/FacebookModel_epoch=16_trn_loss_epoch=0.9023_trn_acc_epoch=0.0000_val_loss_epoch=0.4303_val_acc_epoch=0.9911_160x160_REF_match_d.pickle\n",
      "Loaded: ./checkpoints/smp_test25/FacebookModel_epoch=16_trn_loss_epoch=0.9023_trn_acc_epoch=0.0000_val_loss_epoch=0.4303_val_acc_epoch=0.9911_160x160_TRN_match_d.pickle\n",
      "Loaded: ./checkpoints/smp_test25/FacebookModel_epoch=14_trn_loss_epoch=0.8997_trn_acc_epoch=0.0000_val_loss_epoch=0.4437_val_acc_epoch=0.9912_160x160_REF_match_d.pickle\n",
      "Loaded: ./checkpoints/smp_test25/FacebookModel_epoch=14_trn_loss_epoch=0.8997_trn_acc_epoch=0.0000_val_loss_epoch=0.4437_val_acc_epoch=0.9912_160x160_TRN_match_d.pickle\n",
      "Loaded: ./checkpoints/smp_test26/FacebookModel_epoch=27_trn_loss_epoch=0.7062_trn_acc_epoch=0.0000_val_loss_epoch=0.3296_val_acc_epoch=0.9935_160x160_REF_match_d.pickle\n",
      "Loaded: ./checkpoints/smp_test26/FacebookModel_epoch=27_trn_loss_epoch=0.7062_trn_acc_epoch=0.0000_val_loss_epoch=0.3296_val_acc_epoch=0.9935_160x160_TRN_match_d.pickle\n",
      "Loaded: ./checkpoints/smp_test26/1.5M/FacebookModel_epoch=17_trn_loss_epoch=0.9250_trn_acc_epoch=0.0000_val_loss_epoch=0.4375_val_acc_epoch=0.9919_LIGHT_160x160_REF_match_d.pickle\n",
      "Loaded: ./checkpoints/smp_test26/1.5M/FacebookModel_epoch=17_trn_loss_epoch=0.9250_trn_acc_epoch=0.0000_val_loss_epoch=0.4375_val_acc_epoch=0.9919_LIGHT_160x160_TRN_match_d.pickle\n",
      "Loaded: ./checkpoints/sjy_test9/epoch=9-step=42649_LIGHT_160x160_REF_match_d.pickle\n",
      "Loaded: ./checkpoints/sjy_test9/epoch=9-step=42649_LIGHT_160x160_TRN_match_d.pickle\n",
      "Loaded: ./checkpoints/sjy_test10/epoch=9-step=42619_LIGHT_160x160_REF_match_d.pickle\n",
      "Loaded: ./checkpoints/sjy_test10/epoch=9-step=42619_LIGHT_160x160_TRN_match_d.pickle\n",
      "Loaded: ./checkpoints/sjy_test10/epoch=37-step=161955_LIGHT_160x160_REF_match_d.pickle\n",
      "Loaded: ./checkpoints/sjy_test10/epoch=37-step=161955_LIGHT_160x160_TRN_match_d.pickle\n"
     ]
    }
   ],
   "source": [
    "qry_ref_match_d_v = []\n",
    "qry_trn_match_d_v = []\n",
    "for submission_path in all_submission_path_v:\n",
    "    qry_ref_match_d = load_obj(\n",
    "        submission_path.replace('.h5', '_match_d.pickle')\n",
    "    )\n",
    "    \n",
    "    qry_trn_match_d = load_obj(\n",
    "        submission_path.replace('_REF', '_TRN').replace('.h5', '_match_d.pickle')\n",
    "    )\n",
    "    \n",
    "    qry_ref_match_d_v.append(qry_ref_match_d)\n",
    "    qry_trn_match_d_v.append(qry_trn_match_d)\n",
    "    "
   ]
  },
  {
   "cell_type": "code",
   "execution_count": 49,
   "id": "ee5d7ad8",
   "metadata": {},
   "outputs": [],
   "source": [
    "norm_match_d_v = []\n",
    "\n",
    "for qry_ref_match_d, qry_trn_match_d in zip(qry_ref_match_d_v, qry_trn_match_d_v):\n",
    "    qry_ref_match_d['S'] = sigmoid( qry_ref_match_d['C'] )\n",
    "    qry_trn_match_d['S'] = sigmoid( qry_trn_match_d['C'] )\n",
    "    \n",
    "    norm_match_d = {\n",
    "        'I': qry_ref_match_d['I'].copy(),\n",
    "        'S': qry_ref_match_d['S'] - 1.0 * np.mean(qry_trn_match_d['S'][:,:3], axis=-1, keepdims=True),\n",
    "    }\n",
    "    \n",
    "    norm_match_d_v.append(\n",
    "        norm_match_d\n",
    "    )"
   ]
  },
  {
   "cell_type": "code",
   "execution_count": 50,
   "id": "reverse-actor",
   "metadata": {},
   "outputs": [],
   "source": [
    "def make_match_submission(match_d, p_min=-np.inf, p_cut=np.inf, k=10, k_cut=1, submission_df_path=None):\n",
    "    \n",
    "    I = match_d['I']\n",
    "    \n",
    "    if 'S' not in match_d.keys():\n",
    "        print('Creating S')\n",
    "        C = match_d['C']\n",
    "        S = sigmoid(C)\n",
    "        \n",
    "    else:\n",
    "        S = match_d['S']\n",
    "    \n",
    "    qry_format = 'Q{:05d}'\n",
    "    ref_format = 'R{:06d}'\n",
    "\n",
    "    query_id_v = []\n",
    "    reference_id_v = []\n",
    "    score_v = []\n",
    "\n",
    "    for qry_idx, (ref_idx_v, ref_score_v) in tqdm( enumerate(zip(I, S)), total=len(I)):\n",
    "        query_id = qry_format.format(qry_idx)\n",
    "        \n",
    "        do_cut = False\n",
    "        for i_ref, (ref_score, ref_idx) in enumerate( zip(ref_score_v[:k], ref_idx_v[:k]) ):\n",
    "            if (not np.isnan(ref_score)) and (ref_score > p_min):\n",
    "                reference_id = ref_format.format(ref_idx)\n",
    "\n",
    "                query_id_v.append( query_id )\n",
    "                reference_id_v.append( reference_id )\n",
    "                score_v.append( ref_score )\n",
    "\n",
    "#             if i_ref==0 and (ref_score > p_cut_1st):\n",
    "#                 break\n",
    "                \n",
    "            if np.isnan(ref_score):\n",
    "                break\n",
    "            \n",
    "            if (ref_score > p_cut):\n",
    "                do_cut = True\n",
    "                \n",
    "            if do_cut and (1+i_ref >= k_cut):\n",
    "                break\n",
    "                \n",
    "                    \n",
    "\n",
    "    query_id_v = np.array(query_id_v)\n",
    "    reference_id_v = np.array(reference_id_v)\n",
    "    score_v = np.array(score_v)\n",
    "\n",
    "    submission_df = pd.DataFrame(\n",
    "        {\n",
    "            'query_id': query_id_v,\n",
    "            'reference_id': reference_id_v,\n",
    "            'score': score_v,\n",
    "        }\n",
    "    )\n",
    "    \n",
    "    \n",
    "    if submission_df_path is not None:\n",
    "        submission_df.to_csv(submission_df_path, index=False)\n",
    "        print(f' - Created: {submission_df_path}')\n",
    "    \n",
    "    return submission_df\n",
    "\n",
    "\n",
    "\n",
    "def ensemble_intersection(A_match_d, B_match_d, mean_mode=True):\n",
    "    I_m = []\n",
    "    S_m = []\n",
    "    \n",
    "    \n",
    "    max_intersection = 0\n",
    "    for I_A, I_B, S_A, S_B in tqdm(\n",
    "        zip(A_match_d['I'], B_match_d['I'], A_match_d['S'], B_match_d['S']),\n",
    "        total=len(A_match_d['I']),\n",
    "    ):\n",
    "\n",
    "        I_v, S_v = [], []\n",
    "        for I in set( I_A ).intersection(I_B):\n",
    "            i_A = (I == I_A).argmax()\n",
    "            s_A = S_A[i_A]\n",
    "\n",
    "            i_B = (I == I_B).argmax()\n",
    "            s_B = S_B[i_B]\n",
    "            \n",
    "            if mean_mode:\n",
    "                S = 0.5 * (s_A + s_B)\n",
    "            else:\n",
    "                S = s_A + s_B\n",
    "\n",
    "            I_v.append(I)\n",
    "            S_v.append(S)\n",
    "\n",
    "        I_v = np.array(I_v)\n",
    "        S_v = np.array(S_v)\n",
    "\n",
    "        idx_v = np.argsort(S_v)[::-1]\n",
    "        I_v = I_v[idx_v]\n",
    "        S_v = S_v[idx_v]\n",
    "\n",
    "\n",
    "        I_m.append(I_v)\n",
    "        S_m.append(S_v)\n",
    "        \n",
    "        if max_intersection < I_v.shape[0]:\n",
    "            max_intersection = I_v.shape[0]\n",
    "\n",
    "    I_m = np.array([ list(I_v) + [-1    ] * (max_intersection - I_v.shape[0]) for I_v in I_m])\n",
    "    S_m = np.array([ list(S_v) + [np.nan] * (max_intersection - S_v.shape[0]) for S_v in S_m])\n",
    "    \n",
    "    assert I_m.shape == S_m.shape\n",
    "\n",
    "    match_d = {'I':I_m, 'S':S_m}\n",
    "    \n",
    "    return match_d\n",
    "\n",
    "\n",
    "\n",
    "def do_ensemble(match_d_v, mean_mode=False, min_repeats=2):\n",
    "    \n",
    "    n_models  = len(match_d_v)\n",
    "    assert n_models > 0\n",
    "    assert min_repeats <= n_models\n",
    "\n",
    "    \n",
    "    n_samples = len(match_d_v[0]['I'])\n",
    "    assert all([n_samples == len(match_d['I']) for match_d in match_d_v])\n",
    "\n",
    "    ens_match_d = {'I':[], 'S':[]}\n",
    "    for i_s in tqdm(range(n_samples)):\n",
    "        common_I_v, common_N_v = np.unique( np.concatenate([ match_d_v[i_m]['I'][i_s] for i_m in range(n_models)]), return_counts=True)\n",
    "        f = common_N_v >= min_repeats\n",
    "        common_I_v = common_I_v[f]\n",
    "        common_N_v = common_N_v[f]\n",
    "\n",
    "\n",
    "        ens_I_v, ens_S_v = [], []\n",
    "        for common_I, common_N in zip(common_I_v, common_N_v):\n",
    "            f_v = [ match_d_v[i_m]['I'][i_s] == common_I for i_m in range(n_models)]\n",
    "\n",
    "            S_v = np.concatenate([ match_d_v[i_m]['S'][i_s][f_v[i_m]] for i_m in range(n_models)])\n",
    "\n",
    "            if mean_mode:\n",
    "                ens_S = np.mean(S_v)\n",
    "            else:\n",
    "                ens_S = np.sum(S_v)\n",
    "\n",
    "            ens_I_v.append(common_I)\n",
    "            ens_S_v.append(ens_S)\n",
    "\n",
    "        ens_I_v = np.array(ens_I_v)\n",
    "        ens_S_v = np.array(ens_S_v)\n",
    "\n",
    "        idx_v = np.argsort(ens_S_v)[::-1]\n",
    "\n",
    "        ens_I_v = ens_I_v[idx_v]\n",
    "        ens_S_v = ens_S_v[idx_v]\n",
    "\n",
    "\n",
    "        ens_match_d['I'].append(ens_I_v)\n",
    "        ens_match_d['S'].append(ens_S_v)\n",
    "\n",
    "    return ens_match_d"
   ]
  },
  {
   "cell_type": "code",
   "execution_count": 51,
   "id": "732ed3b9",
   "metadata": {},
   "outputs": [
    {
     "name": "stderr",
     "output_type": "stream",
     "text": [
      "100%|████████████████████████████████████| 50000/50000 [07:13<00:00, 115.33it/s]\n"
     ]
    }
   ],
   "source": [
    "ens_match_d = do_ensemble(\n",
    "    norm_match_d_v,\n",
    "    mean_mode=True,\n",
    "    min_repeats=3,\n",
    ")"
   ]
  },
  {
   "cell_type": "code",
   "execution_count": 52,
   "id": "d136dd62",
   "metadata": {},
   "outputs": [
    {
     "data": {
      "image/png": "[encoded data removed]",
      "text/plain": [
       "<Figure size 432x288 with 1 Axes>"
      ]
     },
     "metadata": {
      "needs_background": "light"
     },
     "output_type": "display_data"
    }
   ],
   "source": [
    "K = 1\n",
    "\n",
    "all_scores_v = np.concatenate([S[:K] for S in ens_match_d['S']])\n",
    "m = np.median( all_scores_v )\n",
    "s = np.std( all_scores_v )\n",
    "\n",
    "# P_MIN = -0.03 + m\n",
    "# P_CUT =  0.02 + m\n",
    "\n",
    "P_MIN = -0.03\n",
    "P_CUT =  0.015\n",
    "\n",
    "_ = plt.hist( all_scores_v, bins=300, density=True)\n",
    "plt.plot([P_CUT, P_CUT], [0, 80], 'y--')\n",
    "plt.plot([m, m], [0, 80], 'g--')\n",
    "plt.plot([P_MIN, P_MIN], [0, 80], 'r--')\n",
    "plt.show()"
   ]
  },
  {
   "cell_type": "code",
   "execution_count": 53,
   "id": "bfec3dd6",
   "metadata": {},
   "outputs": [
    {
     "name": "stderr",
     "output_type": "stream",
     "text": [
      "100%|██████████████████████████████████| 50000/50000 [00:02<00:00, 23956.09it/s]\n"
     ]
    },
    {
     "name": "stdout",
     "output_type": "stream",
     "text": [
      " - Created: ./submissions/match_submission_V8.csv\n",
      " - Number of rows: 406773\n"
     ]
    }
   ],
   "source": [
    "submission_df_path = f'./submissions/match_submission_V{VERSION}.csv'\n",
    "\n",
    "sub_df = make_match_submission(\n",
    "    ens_match_d,\n",
    "    p_min=P_MIN,\n",
    "    p_cut=P_CUT,\n",
    "    k=10,\n",
    "    k_cut=1,\n",
    "    submission_df_path=submission_df_path,\n",
    ")\n",
    "\n",
    "print(' - Number of rows:', len(sub_df) )"
   ]
  },
  {
   "cell_type": "code",
   "execution_count": 54,
   "id": "b65cbd11",
   "metadata": {},
   "outputs": [
    {
     "name": "stdout",
     "output_type": "stream",
     "text": [
      " Running evaluation on: \"./submissions/match_submission_V8.csv\"\n",
      "{\n",
      "  \"average_precision\": 0.7496562776645745,\n",
      "  \"recall_p90\": 0.667601683029453\n",
      "}\n"
     ]
    }
   ],
   "source": [
    "eval_d = evaluate(\n",
    "    submission_path=submission_df_path,\n",
    "    gt_path=public_ground_truth_path,\n",
    "    is_matching=True,\n",
    "    verbose=True,\n",
    ")"
   ]
  },
  {
   "cell_type": "markdown",
   "id": "4b9caa75",
   "metadata": {},
   "source": [
    "### Adding GT samples"
   ]
  },
  {
   "cell_type": "code",
   "execution_count": 55,
   "id": "6b971e93",
   "metadata": {},
   "outputs": [
    {
     "name": "stdout",
     "output_type": "stream",
     "text": [
      " - Created: ./submissions/match_submission_V8_GT.csv\n"
     ]
    },
    {
     "data": {
      "text/html": [
       "<div>\n",
       "<style scoped>\n",
       "    .dataframe tbody tr th:only-of-type {\n",
       "        vertical-align: middle;\n",
       "    }\n",
       "\n",
       "    .dataframe tbody tr th {\n",
       "        vertical-align: top;\n",
       "    }\n",
       "\n",
       "    .dataframe thead th {\n",
       "        text-align: right;\n",
       "    }\n",
       "</style>\n",
       "<table border=\"1\" class=\"dataframe\">\n",
       "  <thead>\n",
       "    <tr style=\"text-align: right;\">\n",
       "      <th></th>\n",
       "      <th>query_id</th>\n",
       "      <th>reference_id</th>\n",
       "      <th>score</th>\n",
       "    </tr>\n",
       "  </thead>\n",
       "  <tbody>\n",
       "    <tr>\n",
       "      <th>0</th>\n",
       "      <td>Q00003</td>\n",
       "      <td>R326040</td>\n",
       "      <td>1.000000</td>\n",
       "    </tr>\n",
       "    <tr>\n",
       "      <th>1</th>\n",
       "      <td>Q00004</td>\n",
       "      <td>R852827</td>\n",
       "      <td>1.000000</td>\n",
       "    </tr>\n",
       "    <tr>\n",
       "      <th>2</th>\n",
       "      <td>Q00008</td>\n",
       "      <td>R246671</td>\n",
       "      <td>1.000000</td>\n",
       "    </tr>\n",
       "    <tr>\n",
       "      <th>3</th>\n",
       "      <td>Q00026</td>\n",
       "      <td>R937849</td>\n",
       "      <td>1.000000</td>\n",
       "    </tr>\n",
       "    <tr>\n",
       "      <th>4</th>\n",
       "      <td>Q00028</td>\n",
       "      <td>R557200</td>\n",
       "      <td>1.000000</td>\n",
       "    </tr>\n",
       "    <tr>\n",
       "      <th>...</th>\n",
       "      <td>...</td>\n",
       "      <td>...</td>\n",
       "      <td>...</td>\n",
       "    </tr>\n",
       "    <tr>\n",
       "      <th>208144</th>\n",
       "      <td>Q49999</td>\n",
       "      <td>R285480</td>\n",
       "      <td>-0.012711</td>\n",
       "    </tr>\n",
       "    <tr>\n",
       "      <th>208145</th>\n",
       "      <td>Q49999</td>\n",
       "      <td>R339008</td>\n",
       "      <td>-0.013382</td>\n",
       "    </tr>\n",
       "    <tr>\n",
       "      <th>208146</th>\n",
       "      <td>Q49999</td>\n",
       "      <td>R069612</td>\n",
       "      <td>-0.014005</td>\n",
       "    </tr>\n",
       "    <tr>\n",
       "      <th>208147</th>\n",
       "      <td>Q49999</td>\n",
       "      <td>R037200</td>\n",
       "      <td>-0.014970</td>\n",
       "    </tr>\n",
       "    <tr>\n",
       "      <th>208148</th>\n",
       "      <td>Q49999</td>\n",
       "      <td>R543470</td>\n",
       "      <td>-0.015221</td>\n",
       "    </tr>\n",
       "  </tbody>\n",
       "</table>\n",
       "<p>208149 rows × 3 columns</p>\n",
       "</div>"
      ],
      "text/plain": [
       "       query_id reference_id     score\n",
       "0        Q00003      R326040  1.000000\n",
       "1        Q00004      R852827  1.000000\n",
       "2        Q00008      R246671  1.000000\n",
       "3        Q00026      R937849  1.000000\n",
       "4        Q00028      R557200  1.000000\n",
       "...         ...          ...       ...\n",
       "208144   Q49999      R285480 -0.012711\n",
       "208145   Q49999      R339008 -0.013382\n",
       "208146   Q49999      R069612 -0.014005\n",
       "208147   Q49999      R037200 -0.014970\n",
       "208148   Q49999      R543470 -0.015221\n",
       "\n",
       "[208149 rows x 3 columns]"
      ]
     },
     "execution_count": 55,
     "metadata": {},
     "output_type": "execute_result"
    }
   ],
   "source": [
    "f = np.array( [int(q[1:]) >= 25_000 for q in sub_df.query_id.values] )\n",
    "gt_sub_df = pd.concat(\n",
    "    [\n",
    "        public_gt[~pd.isna(public_gt.reference_id)], \n",
    "        sub_df.iloc[f]\n",
    "    ],\n",
    "    axis=0\n",
    ")\n",
    "\n",
    "gt_sub_df.fillna(1.0, inplace=True)\n",
    "gt_sub_df.reset_index(inplace=True)\n",
    "gt_sub_df.drop('index', axis=1, inplace=True)\n",
    "\n",
    "gt_submission_df_path = submission_df_path.replace('.csv', '_GT.csv')\n",
    "\n",
    "gt_sub_df.to_csv(gt_submission_df_path, index=False)\n",
    "\n",
    "print(f' - Created: {gt_submission_df_path}')\n",
    "    \n",
    "gt_sub_df"
   ]
  },
  {
   "cell_type": "markdown",
   "id": "9c9d84fd",
   "metadata": {},
   "source": [
    "# Summary"
   ]
  },
  {
   "cell_type": "markdown",
   "id": "fbd3ebdb",
   "metadata": {},
   "source": [
    "```\n",
    "all_submission_path_v = [\n",
    "    './checkpoints/sjy_test5/FacebookModel_Eepoch=51_TLtrn_loss_epoch=0.8669_TAtrn_acc_epoch=0.9914_VLval_loss_epoch=0.4390_VAval_acc_epoch=0.9930_512x512_REF.h5',\n",
    "    './checkpoints/smp_test19/FacebookModel_Eepoch=67_TLtrn_loss_epoch=0.9913_TAtrn_acc_epoch=0.0000_VLval_loss_epoch=0.4815_VAval_acc_epoch=0.9893_224x224_REF.h5',\n",
    "    \n",
    "    './checkpoints/smp_test22/FacebookModel_Eepoch=15_TLtrn_loss_epoch=2.1522_TAtrn_acc_epoch=0.0000_VLval_loss_epoch=nan_VAval_acc_epoch=0.9752_160x160_REF.h5',\n",
    "    \n",
    "    './checkpoints/smp_test24/FacebookModel_epoch=79_trn_loss_epoch=0.6660_trn_acc_epoch=0.0000_val_loss_epoch=0.3122_val_acc_epoch=0.9937_160x160_REF.h5',\n",
    "    \n",
    "    './checkpoints/smp_test25/FacebookModel_epoch=16_trn_loss_epoch=0.9023_trn_acc_epoch=0.0000_val_loss_epoch=0.4303_val_acc_epoch=0.9911_160x160_REF.h5',\n",
    "    './checkpoints/smp_test25/FacebookModel_epoch=14_trn_loss_epoch=0.8997_trn_acc_epoch=0.0000_val_loss_epoch=0.4437_val_acc_epoch=0.9912_160x160_REF.h5',\n",
    "    \n",
    "    './checkpoints/smp_test26/FacebookModel_epoch=27_trn_loss_epoch=0.7062_trn_acc_epoch=0.0000_val_loss_epoch=0.3296_val_acc_epoch=0.9935_160x160_REF.h5',\n",
    "    './checkpoints/smp_test26/1.5M/FacebookModel_epoch=17_trn_loss_epoch=0.9250_trn_acc_epoch=0.0000_val_loss_epoch=0.4375_val_acc_epoch=0.9919_LIGHT_160x160_REF.h5',\n",
    "    \n",
    "    './checkpoints/sjy_test9/epoch=9-step=42649_LIGHT_160x160_REF.h5',\n",
    "    \n",
    "    './checkpoints/sjy_test10/epoch=9-step=42619_LIGHT_160x160_REF.h5',\n",
    "    './checkpoints/sjy_test10/epoch=37-step=161955_LIGHT_160x160_REF.h5',\n",
    "]\n",
    "\n",
    "\n",
    " Running evaluation on: \"./submissions/match_submission_V8.csv\"\n",
    "{\n",
    "  \"average_precision\": 0.7496562776645745,\n",
    "  \"recall_p90\": 0.667601683029453\n",
    "}\n",
    "```"
   ]
  }
 ],
 "metadata": {
  "kernelspec": {
   "display_name": "Python 3 (ipykernel)",
   "language": "python",
   "name": "python3"
  },
  "language_info": {
   "codemirror_mode": {
    "name": "ipython",
    "version": 3
   },
   "file_extension": ".py",
   "mimetype": "text/x-python",
   "name": "python",
   "nbconvert_exporter": "python",
   "pygments_lexer": "ipython3",
   "version": "3.8.10"
  }
 },
 "nbformat": 4,
 "nbformat_minor": 5
}
