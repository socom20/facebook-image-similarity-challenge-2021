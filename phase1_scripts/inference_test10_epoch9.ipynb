{
 "cells": [
  {
   "cell_type": "code",
   "execution_count": 1,
   "id": "dc9bc4d2",
   "metadata": {},
   "outputs": [
    {
     "name": "stderr",
     "output_type": "stream",
     "text": [
      "/usr/lib/python3/dist-packages/requests/__init__.py:89: RequestsDependencyWarning: urllib3 (1.26.6) or chardet (3.0.4) doesn't match a supported version!\n",
      "  warnings.warn(\"urllib3 ({}) or chardet ({}) doesn't match a supported \"\n"
     ]
    },
    {
     "name": "stdout",
     "output_type": "stream",
     "text": [
      " - Found: 861 screenshots.  SCREENSHOT_DIR=./FB_page_qry\n"
     ]
    }
   ],
   "source": [
    "import os, sys, gc\n",
    "import time\n",
    "import glob\n",
    "import pickle\n",
    "import copy\n",
    "import json\n",
    "import random\n",
    "from collections import OrderedDict, namedtuple\n",
    "import multiprocessing\n",
    "import threading\n",
    "import traceback\n",
    "\n",
    "from typing import Tuple, List\n",
    "\n",
    "import h5py\n",
    "from tqdm import tqdm, tqdm_notebook\n",
    "\n",
    "import numpy as np\n",
    "import pandas as pd\n",
    "import matplotlib.pyplot as plt\n",
    "\n",
    "import cv2\n",
    "from PIL import Image\n",
    "\n",
    "\n",
    "import torch\n",
    "import torchvision\n",
    "import torch.nn.functional as F\n",
    "\n",
    "from torch import nn, optim\n",
    "import torch.optim.lr_scheduler as lr_scheduler\n",
    "from torch.utils.data import Dataset, DataLoader\n",
    "from torch.optim.lr_scheduler import CosineAnnealingLR\n",
    "\n",
    "import torchmetrics\n",
    "import pl_bolts\n",
    "import pytorch_lightning as pl\n",
    "\n",
    "\n",
    "\n",
    "from IPython.display import display, clear_output\n",
    "\n",
    "import faiss\n",
    "\n",
    "from modules.AugsDS_v13 import *\n",
    "from modules.eval_functions import *\n",
    "from modules.eval_metrics import evaluate\n",
    "\n",
    "sys.path.append('./modules')"
   ]
  },
  {
   "cell_type": "code",
   "execution_count": 2,
   "id": "cardiovascular-plaza",
   "metadata": {},
   "outputs": [],
   "source": [
    "if __name__ == '__main__':\n",
    "    os.environ[\"CUDA_DEVICE_ORDER\"] = \"PCI_BUS_ID\"\n",
    "    os.environ[\"CUDA_VISIBLE_DEVICES\"] = \"0\""
   ]
  },
  {
   "cell_type": "code",
   "execution_count": 3,
   "id": "dae1a30d",
   "metadata": {
    "scrolled": true
   },
   "outputs": [
    {
     "name": "stdout",
     "output_type": "stream",
     "text": [
      " - Found: 861 screenshots.  SCREENSHOT_DIR=./FB_page_qry\n",
      " - CFG A: arcface, adam, all_gpus_ddp\n"
     ]
    }
   ],
   "source": [
    "from modules.Facebook_AFMultiGPU_model_v23_sy_v9 import ArgsT23_EffNetV2, FacebookModel"
   ]
  },
  {
   "cell_type": "code",
   "execution_count": 4,
   "id": "f6896c27",
   "metadata": {
    "scrolled": false
   },
   "outputs": [
    {
     "name": "stdout",
     "output_type": "stream",
     "text": [
      " = = = = = = = = = = ArgList = = = = = = = = = =\n",
      "ALL_FOLDERS                   : ['query_images', 'reference_images', 'training_images', 'imagenet_images', 'face_frames']\n",
      "BACKBONE_GPUS                 : [0, 1, 2, 3]\n",
      "BATCH_SIZE                    : 88\n",
      "DATASET_WH                    : (384, 384)\n",
      "DS_DIR                        : /home/spc-a6000/PycharmProjects/facebookproject/dataset_jpg_384x384\n",
      "DS_INPUT_DIR                  : /home/spc-a6000/PycharmProjects/facebookproject/dataset\n",
      "FrmFaces_SAMPLES              : ./FrameFaces_samples_v.pickle\n",
      "GeM_opt_p                     : True\n",
      "GeM_p                         : 3.0\n",
      "ImgNet_SAMPLES                : ./ImageNet_samples_v.pickle\n",
      "N_WORKERS                     : 10\n",
      "OUTPUT_WH                     : (160, 160)\n",
      "QRY_AUGS_INTENSITY            : 0.75\n",
      "accelerator                   : ddp\n",
      "arc_bottleneck                : None\n",
      "arc_classnum                  : 40\n",
      "arc_devices_v                 : None\n",
      "arc_m                         : 0.4\n",
      "arc_s                         : 40.0\n",
      "arc_w_prop_v                  : None\n",
      "arc_weight_decay              : 0.0\n",
      "backbone_name                 : eca_nfnet_l2\n",
      "checkpoint_base_path          : ./TEST23_AF_1.5M_CFG_A_oct16_1mil\n",
      "clip_grad_norm                : 1.0\n",
      "criterion_name                : arcface\n",
      "do_ref_trn                    : False\n",
      "embedding_size                : 256\n",
      "eps                           : 1e-06\n",
      "img_norm_type                 : imagenet\n",
      "init_lr                       : 0.001\n",
      "lr_prop                       : 0.001\n",
      "model_name                    : arc_model\n",
      "model_resolution              : (160, 160)\n",
      "n_decay_epochs                : 100\n",
      "n_facebook_samples            : 500000\n",
      "n_frm_face_samples            : 0\n",
      "n_imagenet_samples            : 500000\n",
      "n_steps_grad_update           : 1\n",
      "n_warmup_epochs               : 4\n",
      "neck_type                     : F\n",
      "optimizer_name                : adam\n",
      "precision                     : 16\n",
      "pretrained_bb                 : False\n",
      "ref_trn_n_epochs              : 5\n",
      "sched_factor                  : 0.5\n",
      "sched_patience                : 3\n",
      "scheduler_name                : ReduceLROnPlateau\n",
      "seed                          : None\n",
      "start_ckpt                    : None\n",
      "use_GeM                       : True\n",
      "use_scheduler                 : True\n",
      "weight_decay                  : 0.0\n",
      "\n"
     ]
    }
   ],
   "source": [
    "args = ArgsT23_EffNetV2()\n",
    "\n",
    "args.pretrained_bb = False\n",
    "\n",
    "args.arc_classnum = 40\n",
    "print(args) "
   ]
  },
  {
   "cell_type": "markdown",
   "id": "5e671fb7",
   "metadata": {},
   "source": [
    "# Building model"
   ]
  },
  {
   "cell_type": "code",
   "execution_count": 5,
   "id": "ac38ff16",
   "metadata": {
    "scrolled": true
   },
   "outputs": [
    {
     "name": "stdout",
     "output_type": "stream",
     "text": [
      " - Total weights: 54.45M\n"
     ]
    }
   ],
   "source": [
    "model = FacebookModel(args)"
   ]
  },
  {
   "cell_type": "markdown",
   "id": "06fb2f3d",
   "metadata": {},
   "source": [
    "# Loading ckpt"
   ]
  },
  {
   "cell_type": "code",
   "execution_count": 6,
   "id": "d12547e7",
   "metadata": {
    "scrolled": true
   },
   "outputs": [
    {
     "name": "stdout",
     "output_type": "stream",
     "text": [
      " - Loading model state_dict.\n"
     ]
    },
    {
     "name": "stderr",
     "output_type": "stream",
     "text": [
      " - WARNING: key=\"criterion.kernel\" not found in saved checkpoint. Weights will not be loaded.\n"
     ]
    },
    {
     "name": "stdout",
     "output_type": "stream",
     "text": [
      " - Restored checkpoint: ./checkpoints/sjy_test10/epoch=9-step=42619_LIGHT.ckpt.\n"
     ]
    }
   ],
   "source": [
    "ckpt_filename = './checkpoints/sjy_test10/epoch=9-step=42619_LIGHT.ckpt'\n",
    "_ = model.restore_checkpoint(ckpt_filename)"
   ]
  },
  {
   "cell_type": "markdown",
   "id": "0534c9f8",
   "metadata": {},
   "source": [
    "# Inference configuration"
   ]
  },
  {
   "cell_type": "code",
   "execution_count": 7,
   "id": "268893b4",
   "metadata": {},
   "outputs": [],
   "source": [
    "do_simple_augmentation = False\n",
    "K = 500\n",
    "\n",
    "BATCH_SIZE   = 128\n",
    "N_WORKERS    = 27\n",
    "DS_INPUT_DIR = f'./all_datasets/dataset'\n",
    "ALL_FOLDERS  = ['query_images', 'reference_images', 'training_images']\n",
    "\n",
    "args.ALL_FOLDERS = ALL_FOLDERS\n",
    "args.BATCH_SIZE = BATCH_SIZE\n",
    "args.N_WORKERS = N_WORKERS\n",
    "args.DS_INPUT_DIR = DS_INPUT_DIR"
   ]
  },
  {
   "cell_type": "code",
   "execution_count": 8,
   "id": "888f33a4",
   "metadata": {},
   "outputs": [],
   "source": [
    "while DS_INPUT_DIR[-1] in ['/', r'\\\\']:\n",
    "    DS_INPUT_DIR = DS_INPUT_DIR[:-1]\n",
    "    \n",
    "# Path where the rescaled images will be saved\n",
    "args.DS_DIR = f'{args.DS_INPUT_DIR}_jpg_{args.DATASET_WH[0]}x{args.DATASET_WH[1]}'"
   ]
  },
  {
   "cell_type": "markdown",
   "id": "45db79a0",
   "metadata": {},
   "source": [
    "# Data Source"
   ]
  },
  {
   "cell_type": "code",
   "execution_count": 9,
   "id": "b52bf221",
   "metadata": {},
   "outputs": [
    {
     "name": "stdout",
     "output_type": "stream",
     "text": [
      "Paths:\n",
      " - DS_INPUT_DIR: ./all_datasets/dataset\n",
      " - DS_DIR:       ./all_datasets/dataset_jpg_384x384\n"
     ]
    }
   ],
   "source": [
    "if any( [not os.path.exists(os.path.join(args.DS_DIR, folder)) for folder in args.ALL_FOLDERS] ):\n",
    "    assert os.path.exists(args.DS_INPUT_DIR), f'DS_INPUT_DIR not found: {args.DS_INPUT_DIR}'\n",
    "\n",
    "    resize_dataset(\n",
    "        ds_input_dir=args.DS_INPUT_DIR,\n",
    "        ds_output_dir=args.DS_DIR,\n",
    "        output_wh=args.DATASET_WH,\n",
    "        output_ext='jpg',\n",
    "        num_workers=args.N_WORKERS,\n",
    "        ALL_FOLDERS=args.ALL_FOLDERS,\n",
    "        verbose=False,\n",
    "    )\n",
    "\n",
    "print('Paths:')\n",
    "print(' - DS_INPUT_DIR:', args.DS_INPUT_DIR)\n",
    "print(' - DS_DIR:      ', args.DS_DIR)\n",
    "\n",
    "assert os.path.exists(args.DS_DIR), f'DS_DIR not found: {args.DS_DIR}'\n",
    "\n",
    "try:\n",
    "    public_ground_truth_path = os.path.join(args.DS_DIR, 'public_ground_truth.csv')\n",
    "    public_gt = pd.read_csv( public_ground_truth_path)\n",
    "\n",
    "except:\n",
    "    public_ground_truth_path = os.path.join(args.DS_INPUT_DIR, 'public_ground_truth.csv')\n",
    "    public_gt = pd.read_csv( public_ground_truth_path)"
   ]
  },
  {
   "cell_type": "markdown",
   "id": "fc2af6e7",
   "metadata": {},
   "source": [
    "# Datasets"
   ]
  },
  {
   "cell_type": "code",
   "execution_count": 10,
   "id": "9423771e",
   "metadata": {},
   "outputs": [],
   "source": [
    "ds_qry_full = FacebookDataset(\n",
    "    samples_id_v=[f'Q{i:05d}' for i in range(50_000)],\n",
    "    do_augmentation=False,\n",
    "    ds_dir=args.DS_DIR,\n",
    "    output_wh=args.OUTPUT_WH,\n",
    "    channel_first=True,\n",
    "    norm_type= args.img_norm_type,\n",
    "    verbose=True,\n",
    ")\n",
    "# ds_qry_full.plot_sample(4)\n",
    "\n",
    "\n",
    "ds_ref_full = FacebookDataset(\n",
    "    samples_id_v=[f'R{i:06d}' for i in range(1_000_000)],\n",
    "    do_augmentation=False,\n",
    "    ds_dir=args.DS_DIR,\n",
    "    output_wh=args.OUTPUT_WH,\n",
    "    channel_first=True,\n",
    "    norm_type=args.img_norm_type,\n",
    "    verbose=True,\n",
    ")\n",
    "# ds_ref_full.plot_sample(4)\n",
    "\n",
    "\n",
    "ds_trn_full = FacebookDataset(\n",
    "    samples_id_v=[f'T{i:06d}' for i in range(1_000_000)],\n",
    "    do_augmentation=False,\n",
    "    ds_dir=args.DS_DIR,\n",
    "    output_wh=args.OUTPUT_WH,\n",
    "    channel_first=True,\n",
    "    norm_type=args.img_norm_type,\n",
    "    verbose=True,\n",
    ")\n",
    "# ds_trn_full.plot_sample(4)\n",
    "\n",
    "\n",
    "\n",
    "dl_qry_full = DataLoader(\n",
    "        ds_qry_full,\n",
    "        batch_size=args.BATCH_SIZE,\n",
    "        num_workers=args.N_WORKERS,\n",
    "        shuffle=False,\n",
    "    )\n",
    "\n",
    "dl_ref_full = DataLoader(\n",
    "    ds_ref_full,\n",
    "    batch_size=args.BATCH_SIZE,\n",
    "    num_workers=args.N_WORKERS,\n",
    "    shuffle=False,\n",
    ")\n",
    "\n",
    "dl_trn_full = DataLoader(\n",
    "    ds_trn_full,\n",
    "    batch_size=args.BATCH_SIZE,\n",
    "    num_workers=args.N_WORKERS,\n",
    "    shuffle=False,\n",
    ")"
   ]
  },
  {
   "cell_type": "markdown",
   "id": "45be415d",
   "metadata": {},
   "source": [
    "### Query embeddings"
   ]
  },
  {
   "cell_type": "code",
   "execution_count": 11,
   "id": "c15c23a7",
   "metadata": {
    "scrolled": true
   },
   "outputs": [
    {
     "name": "stdout",
     "output_type": "stream",
     "text": [
      " - Setting model's device: cuda:0\n"
     ]
    },
    {
     "name": "stderr",
     "output_type": "stream",
     "text": [
      "100%|██████████| 391/391 [01:39<00:00,  3.91it/s]\n"
     ]
    }
   ],
   "source": [
    "embed_qry_d = calc_embed_d(\n",
    "    model, \n",
    "    dataloader=dl_qry_full,\n",
    "    do_simple_augmentation=do_simple_augmentation\n",
    ")"
   ]
  },
  {
   "cell_type": "markdown",
   "id": "b0b73fb5",
   "metadata": {},
   "source": [
    "### Reference embeddings"
   ]
  },
  {
   "cell_type": "code",
   "execution_count": 12,
   "id": "c159c827",
   "metadata": {},
   "outputs": [],
   "source": [
    "aug = '_AUG' if do_simple_augmentation else ''\n",
    "submission_path = ckpt_filename.replace('.ckpt', f'_{args.OUTPUT_WH[0]}x{args.OUTPUT_WH[1]}{aug}_REF.h5')\n",
    "scores_path = submission_path.replace('.h5', '_match_d.pickle')"
   ]
  },
  {
   "cell_type": "code",
   "execution_count": 13,
   "id": "8578ddaf",
   "metadata": {
    "scrolled": true
   },
   "outputs": [
    {
     "name": "stderr",
     "output_type": "stream",
     "text": [
      "\r",
      "  0%|          | 0/7813 [00:00<?, ?it/s]"
     ]
    },
    {
     "name": "stdout",
     "output_type": "stream",
     "text": [
      " - Setting model's device: cuda:0\n"
     ]
    },
    {
     "name": "stderr",
     "output_type": "stream",
     "text": [
      "100%|██████████| 7813/7813 [53:57<00:00,  2.41it/s]\n"
     ]
    },
    {
     "name": "stdout",
     "output_type": "stream",
     "text": [
      " - Saved: ./checkpoints/sjy_test10/epoch=9-step=42619_LIGHT_160x160_REF.h5\n"
     ]
    },
    {
     "name": "stderr",
     "output_type": "stream",
     "text": [
      "100%|██████████| 100/100 [45:56<00:00, 27.57s/it]\n"
     ]
    },
    {
     "name": "stdout",
     "output_type": "stream",
     "text": [
      "Saved: ./checkpoints/sjy_test10/epoch=9-step=42619_LIGHT_160x160_REF_match_d.pickle\n"
     ]
    }
   ],
   "source": [
    "embed_ref_d = calc_embed_d(\n",
    "    model, \n",
    "    dataloader=dl_ref_full, \n",
    "    do_simple_augmentation=do_simple_augmentation\n",
    ")\n",
    "\n",
    "save_submission(\n",
    "    embed_qry_d,\n",
    "    embed_ref_d,\n",
    "    save_path=submission_path,\n",
    ")\n",
    "\n",
    "match_d = calc_match_scores(embed_qry_d, embed_ref_d, k=K)\n",
    "save_obj(match_d, scores_path)"
   ]
  },
  {
   "cell_type": "markdown",
   "id": "cefd70bd",
   "metadata": {},
   "source": [
    "### Public GT validation"
   ]
  },
  {
   "cell_type": "code",
   "execution_count": 14,
   "id": "9fcef684",
   "metadata": {
    "scrolled": true
   },
   "outputs": [
    {
     "name": "stdout",
     "output_type": "stream",
     "text": [
      " Running evaluation on: \"./checkpoints/sjy_test10/epoch=9-step=42619_LIGHT_160x160_REF.h5\"\n",
      "{\n",
      "  \"average_precision\": 0.6507371773869689,\n",
      "  \"recall_p90\": 0.5301542776998598\n",
      "}\n"
     ]
    }
   ],
   "source": [
    "eval_d = evaluate(\n",
    "    submission_path=submission_path,\n",
    "    gt_path=public_ground_truth_path,\n",
    "    is_matching=False,\n",
    ")"
   ]
  },
  {
   "cell_type": "markdown",
   "id": "ac8eca14",
   "metadata": {},
   "source": [
    "### Training embeddings"
   ]
  },
  {
   "cell_type": "code",
   "execution_count": 15,
   "id": "bbec3ad2",
   "metadata": {},
   "outputs": [],
   "source": [
    "aug = '_AUG' if do_simple_augmentation else ''\n",
    "submission_path = ckpt_filename.replace('.ckpt', f'_{args.OUTPUT_WH[0]}x{args.OUTPUT_WH[1]}{aug}_TRN.h5')\n",
    "scores_path = submission_path.replace('.h5', '_match_d.pickle')"
   ]
  },
  {
   "cell_type": "code",
   "execution_count": 16,
   "id": "60a4ef64",
   "metadata": {
    "scrolled": false
   },
   "outputs": [
    {
     "name": "stderr",
     "output_type": "stream",
     "text": [
      "\r",
      "  0%|          | 0/7813 [00:00<?, ?it/s]"
     ]
    },
    {
     "name": "stdout",
     "output_type": "stream",
     "text": [
      " - Setting model's device: cuda:0\n"
     ]
    },
    {
     "name": "stderr",
     "output_type": "stream",
     "text": [
      "100%|██████████| 7813/7813 [31:03<00:00,  4.19it/s]\n"
     ]
    },
    {
     "name": "stdout",
     "output_type": "stream",
     "text": [
      " - Saved: ./checkpoints/sjy_test10/epoch=9-step=42619_LIGHT_160x160_TRN.h5\n"
     ]
    }
   ],
   "source": [
    "embed_trn_d = calc_embed_d(\n",
    "    model, \n",
    "    dataloader=dl_trn_full, \n",
    "    do_simple_augmentation=do_simple_augmentation\n",
    ")\n",
    "\n",
    "save_submission(\n",
    "    embed_qry_d,\n",
    "    embed_trn_d,\n",
    "    save_path=submission_path,\n",
    ")"
   ]
  },
  {
   "cell_type": "code",
   "execution_count": 17,
   "id": "1f44bc32",
   "metadata": {},
   "outputs": [
    {
     "name": "stderr",
     "output_type": "stream",
     "text": [
      "100%|██████████| 100/100 [23:13<00:00, 13.93s/it]\n"
     ]
    },
    {
     "name": "stdout",
     "output_type": "stream",
     "text": [
      "Saved: ./checkpoints/sjy_test10/epoch=9-step=42619_LIGHT_160x160_TRN_match_d.pickle\n"
     ]
    }
   ],
   "source": [
    "match_d = calc_match_scores(embed_qry_d, embed_trn_d, k=K)\n",
    "save_obj(match_d, scores_path)"
   ]
  },
  {
   "cell_type": "code",
   "execution_count": null,
   "id": "26de29da",
   "metadata": {},
   "outputs": [],
   "source": []
  },
  {
   "cell_type": "code",
   "execution_count": null,
   "id": "563cac59",
   "metadata": {},
   "outputs": [],
   "source": []
  },
  {
   "cell_type": "code",
   "execution_count": null,
   "id": "6152d19a",
   "metadata": {},
   "outputs": [],
   "source": []
  },
  {
   "cell_type": "code",
   "execution_count": null,
   "id": "25d4707a",
   "metadata": {},
   "outputs": [],
   "source": []
  },
  {
   "cell_type": "code",
   "execution_count": null,
   "id": "b0e2d243",
   "metadata": {},
   "outputs": [],
   "source": []
  },
  {
   "cell_type": "code",
   "execution_count": null,
   "id": "7dcb78b8",
   "metadata": {},
   "outputs": [],
   "source": []
  },
  {
   "cell_type": "code",
   "execution_count": null,
   "id": "046c6bce",
   "metadata": {},
   "outputs": [],
   "source": []
  }
 ],
 "metadata": {
  "kernelspec": {
   "display_name": "Python 3 (ipykernel)",
   "language": "python",
   "name": "python3"
  },
  "language_info": {
   "codemirror_mode": {
    "name": "ipython",
    "version": 3
   },
   "file_extension": ".py",
   "mimetype": "text/x-python",
   "name": "python",
   "nbconvert_exporter": "python",
   "pygments_lexer": "ipython3",
   "version": "3.8.10"
  }
 },
 "nbformat": 4,
 "nbformat_minor": 5
}
